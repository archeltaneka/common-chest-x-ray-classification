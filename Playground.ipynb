{
 "cells": [
  {
   "cell_type": "markdown",
   "metadata": {},
   "source": [
    "# Playground"
   ]
  },
  {
   "cell_type": "markdown",
   "metadata": {},
   "source": [
    "Welcome to the Playground! I made this notebook to play around while completing the convolutional neural network algorithm from scratch.<br> \n",
    "I recommend you to also play around with this notebook to understand how the algorithm works. Feel free to experiment by changing the codes.\n",
    "<br><br>\n",
    "This notebook is based on:\n",
    "- https://victorzhou.com/blog/intro-to-cnns-part-1/\n",
    "- https://victorzhou.com/blog/intro-to-cnns-part-2/<br>\n",
    "<br>Have a look at these links for more details"
   ]
  },
  {
   "cell_type": "code",
   "execution_count": 1,
   "metadata": {},
   "outputs": [],
   "source": [
    "import numpy as np\n",
    "import matplotlib.pyplot as plt\n",
    "\n",
    "%matplotlib inline"
   ]
  },
  {
   "cell_type": "markdown",
   "metadata": {},
   "source": [
    "Let's use a simple MNIST handwritten digits dataset. Tensorflow has mnist dataset built in the library, just import them and it will automatically split the data into train and test set."
   ]
  },
  {
   "cell_type": "code",
   "execution_count": 2,
   "metadata": {},
   "outputs": [],
   "source": [
    "#let's use simple data with mnist digits\n",
    "from tensorflow.keras.datasets import mnist\n",
    "\n",
    "(x_train, y_train), (x_test, y_test) = mnist.load_data()"
   ]
  },
  {
   "cell_type": "markdown",
   "metadata": {},
   "source": [
    "MNIST dataset is a grayscale image, which means it has only 1 color channel for each image unlike images in general with 3 color channels (RGB)"
   ]
  },
  {
   "cell_type": "code",
   "execution_count": 3,
   "metadata": {},
   "outputs": [
    {
     "data": {
      "text/plain": [
       "(28, 28)"
      ]
     },
     "execution_count": 3,
     "metadata": {},
     "output_type": "execute_result"
    }
   ],
   "source": [
    "x_train[0].shape"
   ]
  },
  {
   "cell_type": "markdown",
   "metadata": {},
   "source": [
    "Let's see the first image inside the training set"
   ]
  },
  {
   "cell_type": "code",
   "execution_count": 4,
   "metadata": {},
   "outputs": [
    {
     "data": {
      "text/plain": [
       "<matplotlib.image.AxesImage at 0x27ca5264fd0>"
      ]
     },
     "execution_count": 4,
     "metadata": {},
     "output_type": "execute_result"
    },
    {
     "data": {
      "image/png": "[encoded data removed]",
      "text/plain": [
       "<Figure size 432x288 with 1 Axes>"
      ]
     },
     "metadata": {
      "needs_background": "light"
     },
     "output_type": "display_data"
    }
   ],
   "source": [
    "plt.imshow(x_train[0], cmap='gray')"
   ]
  },
  {
   "cell_type": "code",
   "execution_count": 5,
   "metadata": {},
   "outputs": [
    {
     "data": {
      "text/plain": [
       "5"
      ]
     },
     "execution_count": 5,
     "metadata": {},
     "output_type": "execute_result"
    }
   ],
   "source": [
    "y_train[0]"
   ]
  },
  {
   "cell_type": "markdown",
   "metadata": {},
   "source": [
    "Keep in mind that we are trying to train these handwritten digits"
   ]
  },
  {
   "cell_type": "code",
   "execution_count": 6,
   "metadata": {},
   "outputs": [
    {
     "data": {
      "text/plain": [
       "array([0, 1, 2, 3, 4, 5, 6, 7, 8, 9], dtype=uint8)"
      ]
     },
     "execution_count": 6,
     "metadata": {},
     "output_type": "execute_result"
    }
   ],
   "source": [
    "np.unique(y_train)"
   ]
  },
  {
   "cell_type": "markdown",
   "metadata": {},
   "source": [
    "## Part 1 - Convolutional2D"
   ]
  },
  {
   "cell_type": "markdown",
   "metadata": {},
   "source": [
    "This is the main core of the algorithm itself. Convolutional operation is very similar to matrix multiplication. It involves an nxn kernel/filter, then it convolves with a group of nxn pixel image until the end of the image."
   ]
  },
  {
   "cell_type": "markdown",
   "metadata": {},
   "source": [
    "![ConvolutionalURL](https://media.giphy.com/media/i4NjAwytgIRDW/giphy.gif \"convolutional operation\")"
   ]
  },
  {
   "cell_type": "markdown",
   "metadata": {},
   "source": [
    "To simplify things, let's assume that we use only 3x3 filters along with 1 stride and no padding"
   ]
  },
  {
   "cell_type": "code",
   "execution_count": 7,
   "metadata": {},
   "outputs": [],
   "source": [
    "class Convolution2D:\n",
    "    def __init__(self, filter_shape, num_filters):\n",
    "        self.filter_shape = filter_shape\n",
    "        self.num_filters = num_filters\n",
    "        self.filters = np.random.randn(num_filters, filter_shape[0], filter_shape[0]) # random initialization\n",
    "        \n",
    "    def iterate(self, img, filter_shape):\n",
    "        height, width = img.shape\n",
    "        \n",
    "        for i in range(height - 2):\n",
    "            for j in range(width - 2):\n",
    "                output = img[i:(i+filter_shape[0]), j:(j+filter_shape[0])]\n",
    "                yield output, i, j # 'yield' keyword will return any values and continue from the last value returned\n",
    "    \n",
    "    def conv2d(self, inputs):\n",
    "        height, width = inputs.shape\n",
    "        output = np.zeros((height-2, width-2, self.num_filters)) \n",
    "        \n",
    "        for region, i, j in self.iterate(inputs, self.filter_shape):\n",
    "            output[i, j] = np.sum(region * self.filters, axis=(1,2))\n",
    "#             print(region.shape)\n",
    "#             print(self.filters.shape)\n",
    "#             print(region * self.filters)\n",
    "        \n",
    "        return output"
   ]
  },
  {
   "cell_type": "code",
   "execution_count": 8,
   "metadata": {},
   "outputs": [
    {
     "data": {
      "text/plain": [
       "(26, 26, 8)"
      ]
     },
     "execution_count": 8,
     "metadata": {},
     "output_type": "execute_result"
    }
   ],
   "source": [
    "(x_train, y_train), (x_test, y_test) = mnist.load_data()\n",
    "\n",
    "convolution = Convolution2D(filter_shape=(3,3), num_filters=8)\n",
    "output = convolution.conv2d(x_train[0]) # x_train = 28x28 shape\n",
    "output.shape # output should be 26x26 because of the convolution computation"
   ]
  },
  {
   "cell_type": "markdown",
   "metadata": {},
   "source": [
    "Notice that the shape of the image \"shrinks\" after the convolutional operation. Later, we will learn about <b>padding</b> and how does it solves this shrinking problem"
   ]
  },
  {
   "cell_type": "markdown",
   "metadata": {},
   "source": [
    "## Part 2 - Maxpool2D"
   ]
  },
  {
   "cell_type": "markdown",
   "metadata": {},
   "source": [
    "Pooling layers are also commonly used in the CNN. Here, we use the maxpooling layer. There are many types of pooling layer apart from maxpool for example: average pooling, min pooling, global pooling, etc. <b>This layer functions as a \"filter\" to eliminate adjacent pixel images which have similar values (since they share the same information and it becomes redundant) </b>"
   ]
  },
  {
   "cell_type": "markdown",
   "metadata": {},
   "source": [
    "![MaxPoolURL](https://thumbs.gfycat.com/FirstMediumDalmatian-size_restricted.gif \"2x2 MaxPool\")\n",
    "image taken from: https://gfycat.com/firstmediumdalmatian"
   ]
  },
  {
   "cell_type": "markdown",
   "metadata": {},
   "source": [
    "Again to simplify things, let's assume we use 2x2 maxpool with 1 stride"
   ]
  },
  {
   "cell_type": "code",
   "execution_count": 9,
   "metadata": {},
   "outputs": [],
   "source": [
    "class MaxPool2D:\n",
    "    def iterate(self, img):\n",
    "        height, width, _ = img.shape\n",
    "        h = height//2\n",
    "        w = width//2\n",
    "        \n",
    "        for i in range(h):\n",
    "            for j in range(w):\n",
    "                new_region = img[(i*2):(i*2+2), (j*2):(j*2+2)]\n",
    "                yield new_region, i, j\n",
    "    \n",
    "    # 2x2 maxpool\n",
    "    def pool(self, inputs):\n",
    "        height, width, num_filters = inputs.shape\n",
    "        output = np.zeros((height//2, width//2, num_filters))\n",
    "        \n",
    "        for img_region, i, j in self.iterate(inputs):\n",
    "            output[i, j] = np.max(img_region, axis=(0,1))\n",
    "        \n",
    "        return output"
   ]
  },
  {
   "cell_type": "code",
   "execution_count": 10,
   "metadata": {},
   "outputs": [
    {
     "data": {
      "text/plain": [
       "(13, 13, 8)"
      ]
     },
     "execution_count": 10,
     "metadata": {},
     "output_type": "execute_result"
    }
   ],
   "source": [
    "(x_train, y_train), (x_test, y_test) = mnist.load_data()\n",
    "\n",
    "convolution = Convolution2D(filter_shape=(3,3), num_filters=8)\n",
    "maxpool = MaxPool2D()\n",
    "\n",
    "output = convolution.conv2d(x_train[0]) # x_train = 28x28 shape\n",
    "output = maxpool.pool(output) # 26x26x8 before pooling\n",
    "output.shape # should be 13x13x8 after pooling"
   ]
  },
  {
   "cell_type": "markdown",
   "metadata": {},
   "source": [
    "Image dimension will halve after the pooling operation"
   ]
  },
  {
   "cell_type": "markdown",
   "metadata": {},
   "source": [
    "## Part 3 - Dense Layer"
   ]
  },
  {
   "cell_type": "markdown",
   "metadata": {},
   "source": [
    "Now we get to the neural network part. Remember that we are trying to classify 10 different classes of handwritten digits. So, this <b> is not a binary classification problem</b> instead, this is a <b> multiclassification problem</b>. In CNN, we call it Softmax layer which is a fully connected layer with a softmax function"
   ]
  },
  {
   "cell_type": "markdown",
   "metadata": {},
   "source": [
    "![DenseURL](https://miro.medium.com/max/2808/1*SGPGG7oeSvVlV5sOSQ2iZw.png \"Fully connected layer\")\n",
    "image taken from: https://towardsdatascience.com/mnist-handwritten-digits-classification-using-a-convolutional-neural-network-cnn-af5fafbc35e9"
   ]
  },
  {
   "cell_type": "markdown",
   "metadata": {},
   "source": [
    "Take a look at the last maxpooling layer. The image has 3 dimensions (height x width x channel) while neural network requires us to have a 2D (nx1) vector image. Finally, the last layer will be connected with 10 different nodes with its probabilities for each number."
   ]
  },
  {
   "cell_type": "code",
   "execution_count": 11,
   "metadata": {},
   "outputs": [],
   "source": [
    "class Softmax:\n",
    "    # initialize random weights and zero biases\n",
    "    def __init__(self, num_features, num_nodes):\n",
    "        self.weights = np.random.randn(num_features, num_nodes) / num_features\n",
    "        self.biases = np.zeros(num_nodes)\n",
    "#         print(self.weights.shape)\n",
    "#         print(self.biases.shape)\n",
    "    \n",
    "    # flattens out the previous layer to nx1 vector\n",
    "    def flatten(self, inputs):\n",
    "        self.inputs = inputs.flatten()\n",
    "#         print(self.inputs.shape)\n",
    "    \n",
    "    # connects flattened layer with a fully connected layer (dense)\n",
    "    def dense(self, inputs):\n",
    "        input_features, nodes = self.weights.shape\n",
    "        \n",
    "        z = np.dot(self.inputs, self.weights) + self.biases # z = W . X + b\n",
    "        a = np.exp(z) # a = g(z)\n",
    "\n",
    "        return a / np.sum(a, axis=0) # e^a / sum(a)"
   ]
  },
  {
   "cell_type": "markdown",
   "metadata": {},
   "source": [
    "Now you might ask: <b>Why we have to convert these outputs into probabilities? Why we have to bother with other digits which have low probabilities? Just pick the digit with the highest probability</b><br><br>\n",
    "Softmax activation function <b> evaluates how sure the model is with their predictions. </b> You might heard of <b> cross-entropy loss</b> and this is exactly what we will going to use in calculating our loss between the predictions and actual labels\n",
    "<br><br>\n",
    "\n",
    "\\begin{equation*}\n",
    "s(x_i) = \\frac{e^{x_i}} {\\sum_{j=1}^n e^{x_j}}\n",
    "\\end{equation*}<br>\n",
    "\n",
    "As stated above, softmax function converts values into probabilities. It uses e (mathematical constant) for each class and divide by sum of all exponentials (powers of e)"
   ]
  },
  {
   "cell_type": "code",
   "execution_count": 12,
   "metadata": {},
   "outputs": [
    {
     "name": "stdout",
     "output_type": "stream",
     "text": [
      "(10,)\n"
     ]
    }
   ],
   "source": [
    "(x_train, y_train), (x_test, y_test) = mnist.load_data()\n",
    "\n",
    "convolution = Convolution2D(filter_shape=(3,3), num_filters=8)\n",
    "maxpool = MaxPool2D()\n",
    "softmax = Softmax(13*13*8, 10) # 13x13 input to softmax from maxpool's output --> 26x26 original size\n",
    "\n",
    "output = convolution.conv2d(x_train[0]) \n",
    "output = maxpool.pool(output)\n",
    "output = softmax.flatten(output)\n",
    "output = softmax.dense(output)\n",
    "\n",
    "print(output.shape)"
   ]
  },
  {
   "cell_type": "markdown",
   "metadata": {},
   "source": [
    "Now we have 10 outputs for each probability"
   ]
  },
  {
   "cell_type": "markdown",
   "metadata": {},
   "source": [
    "# Part 4 - Forward Propagation"
   ]
  },
  {
   "cell_type": "markdown",
   "metadata": {},
   "source": [
    "Let's put all the layers together and try to train it!"
   ]
  },
  {
   "cell_type": "code",
   "execution_count": 13,
   "metadata": {},
   "outputs": [],
   "source": [
    "(x_train, y_train), (x_test, y_test) = mnist.load_data()"
   ]
  },
  {
   "cell_type": "code",
   "execution_count": 15,
   "metadata": {},
   "outputs": [],
   "source": [
    "convolution = Convolution2D(filter_shape=(3,3), num_filters=8)\n",
    "maxpool = MaxPool2D()\n",
    "softmax = Softmax(13*13*8, 10)"
   ]
  },
  {
   "cell_type": "markdown",
   "metadata": {},
   "source": [
    "To evaluate how close our predictions are with the actual label, we need a loss function. Softmax loss function uses <b> natural logarithm</b> a.k.a <b>cross-entropy loss</b>\n",
    "\n",
    "\\begin{equation*}\n",
    "L = -ln(probability)\n",
    "\\end{equation*}<br>\n",
    "\n",
    "ln(probability) is a natural logarithm for the predicted probability for each class. The rule of thumb is, <b>lower loss leads to a better prediction</b>\n",
    "\n",
    "\\begin{equation*}\n",
    "L = -ln(1) = 0\n",
    "\\end{equation*}<br>\n",
    "\\begin{equation*}\n",
    "L = -ln(0.8) = 0.22\n",
    "\\end{equation*}<br>"
   ]
  },
  {
   "cell_type": "code",
   "execution_count": 16,
   "metadata": {},
   "outputs": [],
   "source": [
    "def forward_propagation(img, label):\n",
    "    output = convolution.conv2d(img/255)\n",
    "    output = maxpool.pool(output)\n",
    "    output = softmax.flatten(output)\n",
    "    output = softmax.dense(output)\n",
    "    \n",
    "    loss = -np.log(output[label]) # -ln(x) --> softmax loss function\n",
    "    acc = 1 if np.argmax(output) == label else 0 # increase the accuracy if the predicted label == actual label\n",
    "    \n",
    "    return output, loss, acc"
   ]
  },
  {
   "cell_type": "markdown",
   "metadata": {},
   "source": [
    "We train the data in SGD (Stochastic Gradient Descent) fashion, means the training takes one image at a team for each epoch."
   ]
  },
  {
   "cell_type": "code",
   "execution_count": null,
   "metadata": {},
   "outputs": [],
   "source": [
    "total_loss = 0\n",
    "accuracy = 0\n",
    "\n",
    "for i, (img, label) in enumerate(zip(x_train[:1000], y_train[:1000])): # let's train first 1000 data for simplicity \n",
    "    _, loss, acc = forward_propagation(img, label)\n",
    "    total_loss += loss\n",
    "    accuracy += acc\n",
    "    \n",
    "    if i % 100 == 0:\n",
    "        print(\"Epoch\", i, \": Loss= \", total_loss/100, \"| Accuracy=\", accuracy, \"%\")\n",
    "        \n",
    "        total_loss = 0\n",
    "        accuracy = 0"
   ]
  },
  {
   "cell_type": "markdown",
   "metadata": {},
   "source": [
    "Looking good! Notice that our loss is stuck around ~2.3. This is because there is no gradient updates a.k.a backpropagation! Our model did not learn anything during this training."
   ]
  },
  {
   "cell_type": "markdown",
   "metadata": {},
   "source": [
    "### Padding"
   ]
  },
  {
   "cell_type": "markdown",
   "metadata": {},
   "source": [
    "Padding is useful when we want to keep the resolution of the image (does not shrink after the convolution)"
   ]
  },
  {
   "cell_type": "markdown",
   "metadata": {},
   "source": [
    "![PaddingURL](https://jamesmccaffrey.files.wordpress.com/2018/05/convolution_math.jpg \"Image Padding\")\n",
    "Image taken from: https://jamesmccaffrey.wordpress.com/2018/05/30/convolution-image-size-filter-size-padding-and-stride/"
   ]
  },
  {
   "cell_type": "code",
   "execution_count": 13,
   "metadata": {},
   "outputs": [],
   "source": [
    "def padding(img, pad):\n",
    "    img_pad = np.pad(img, ((pad, pad), (pad,pad)), 'constant', constant_values=0)\n",
    "    \n",
    "    return img_pad"
   ]
  },
  {
   "cell_type": "code",
   "execution_count": 14,
   "metadata": {
    "scrolled": true
   },
   "outputs": [
    {
     "name": "stdout",
     "output_type": "stream",
     "text": [
      "x.shape = (28, 28)\n",
      "x_pad.shape = (30, 30)\n",
      "x[1,1] = [[  0   0   0   0   0   0   0   0   0   0   0   0   0   0   0   0   0   0\n",
      "    0   0   0   0   0   0   0   0   0   0]\n",
      " [  0   0   0   0   0   0   0   0   0   0   0   0   0   0   0   0   0   0\n",
      "    0   0   0   0   0   0   0   0   0   0]\n",
      " [  0   0   0   0   0   0   0   0   0   0   0   0   0   0   0   0   0   0\n",
      "    0   0   0   0   0   0   0   0   0   0]\n",
      " [  0   0   0   0   0   0   0   0   0   0   0   0   0   0   0   0   0   0\n",
      "    0   0   0   0   0   0   0   0   0   0]\n",
      " [  0   0   0   0   0   0   0   0   0   0   0   0   0   0   0  51 159 253\n",
      "  159  50   0   0   0   0   0   0   0   0]\n",
      " [  0   0   0   0   0   0   0   0   0   0   0   0   0   0  48 238 252 252\n",
      "  252 237   0   0   0   0   0   0   0   0]\n",
      " [  0   0   0   0   0   0   0   0   0   0   0   0   0  54 227 253 252 239\n",
      "  233 252  57   6   0   0   0   0   0   0]\n",
      " [  0   0   0   0   0   0   0   0   0   0   0  10  60 224 252 253 252 202\n",
      "   84 252 253 122   0   0   0   0   0   0]\n",
      " [  0   0   0   0   0   0   0   0   0   0   0 163 252 252 252 253 252 252\n",
      "   96 189 253 167   0   0   0   0   0   0]\n",
      " [  0   0   0   0   0   0   0   0   0   0  51 238 253 253 190 114 253 228\n",
      "   47  79 255 168   0   0   0   0   0   0]\n",
      " [  0   0   0   0   0   0   0   0   0  48 238 252 252 179  12  75 121  21\n",
      "    0   0 253 243  50   0   0   0   0   0]\n",
      " [  0   0   0   0   0   0   0   0  38 165 253 233 208  84   0   0   0   0\n",
      "    0   0 253 252 165   0   0   0   0   0]\n",
      " [  0   0   0   0   0   0   0   7 178 252 240  71  19  28   0   0   0   0\n",
      "    0   0 253 252 195   0   0   0   0   0]\n",
      " [  0   0   0   0   0   0   0  57 252 252  63   0   0   0   0   0   0   0\n",
      "    0   0 253 252 195   0   0   0   0   0]\n",
      " [  0   0   0   0   0   0   0 198 253 190   0   0   0   0   0   0   0   0\n",
      "    0   0 255 253 196   0   0   0   0   0]\n",
      " [  0   0   0   0   0   0  76 246 252 112   0   0   0   0   0   0   0   0\n",
      "    0   0 253 252 148   0   0   0   0   0]\n",
      " [  0   0   0   0   0   0  85 252 230  25   0   0   0   0   0   0   0   0\n",
      "    7 135 253 186  12   0   0   0   0   0]\n",
      " [  0   0   0   0   0   0  85 252 223   0   0   0   0   0   0   0   0   7\n",
      "  131 252 225  71   0   0   0   0   0   0]\n",
      " [  0   0   0   0   0   0  85 252 145   0   0   0   0   0   0   0  48 165\n",
      "  252 173   0   0   0   0   0   0   0   0]\n",
      " [  0   0   0   0   0   0  86 253 225   0   0   0   0   0   0 114 238 253\n",
      "  162   0   0   0   0   0   0   0   0   0]\n",
      " [  0   0   0   0   0   0  85 252 249 146  48  29  85 178 225 253 223 167\n",
      "   56   0   0   0   0   0   0   0   0   0]\n",
      " [  0   0   0   0   0   0  85 252 252 252 229 215 252 252 252 196 130   0\n",
      "    0   0   0   0   0   0   0   0   0   0]\n",
      " [  0   0   0   0   0   0  28 199 252 252 253 252 252 233 145   0   0   0\n",
      "    0   0   0   0   0   0   0   0   0   0]\n",
      " [  0   0   0   0   0   0   0  25 128 252 253 252 141  37   0   0   0   0\n",
      "    0   0   0   0   0   0   0   0   0   0]\n",
      " [  0   0   0   0   0   0   0   0   0   0   0   0   0   0   0   0   0   0\n",
      "    0   0   0   0   0   0   0   0   0   0]\n",
      " [  0   0   0   0   0   0   0   0   0   0   0   0   0   0   0   0   0   0\n",
      "    0   0   0   0   0   0   0   0   0   0]\n",
      " [  0   0   0   0   0   0   0   0   0   0   0   0   0   0   0   0   0   0\n",
      "    0   0   0   0   0   0   0   0   0   0]\n",
      " [  0   0   0   0   0   0   0   0   0   0   0   0   0   0   0   0   0   0\n",
      "    0   0   0   0   0   0   0   0   0   0]]\n",
      "x_pad[1,1] = [0 0 0 0 0 0 0 0 0 0 0 0 0 0 0 0 0 0 0 0 0 0 0 0 0 0 0 0 0 0]\n"
     ]
    },
    {
     "data": {
      "text/plain": [
       "<matplotlib.image.AxesImage at 0x27ca0daa320>"
      ]
     },
     "execution_count": 14,
     "metadata": {},
     "output_type": "execute_result"
    },
    {
     "data": {
      "image/png": "[encoded data removed]",
      "text/plain": [
       "<Figure size 432x288 with 2 Axes>"
      ]
     },
     "metadata": {
      "needs_background": "light"
     },
     "output_type": "display_data"
    }
   ],
   "source": [
    "x_pad = padding(x_train[0], 1)\n",
    "print (\"x.shape =\", x_train[0].shape)\n",
    "print (\"x_pad.shape =\", x_pad.shape)\n",
    "print (\"x[1,1] =\", x_train[1])\n",
    "print (\"x_pad[1,1] =\", x_pad[1])\n",
    "\n",
    "fig, axarr = plt.subplots(1, 2)\n",
    "axarr[0].set_title('x')\n",
    "axarr[0].imshow(x_train[0,:,:], cmap='gray')\n",
    "axarr[1].set_title('x_pad')\n",
    "axarr[1].imshow(x_pad[:,:], cmap='gray')"
   ]
  },
  {
   "cell_type": "markdown",
   "metadata": {},
   "source": [
    "The 'x_pad' image looks kind of zoomed out than the original image 'x', this is due to the zero padding that adds more pixel density to the image"
   ]
  },
  {
   "cell_type": "markdown",
   "metadata": {},
   "source": [
    "Now let's implement it in the Convolution2D class"
   ]
  },
  {
   "cell_type": "code",
   "execution_count": 39,
   "metadata": {},
   "outputs": [],
   "source": [
    "class Convolution2D:\n",
    "    def __init__(self, filter_shape, num_filters, padding, stride, debugging=False):\n",
    "        self.filter_shape = filter_shape\n",
    "        self.num_filters = num_filters\n",
    "        self.padding = padding\n",
    "        self.stride = stride\n",
    "        self.filters = np.random.randn(num_filters, filter_shape[0], filter_shape[0]) # random initialization\n",
    "        self.debugging = debugging\n",
    "        \n",
    "    def iterate(self, img, filter_shape):\n",
    "        height, width = img.shape\n",
    "        height = int((height + 2 * self.pad_size - self.filter_shape[0]) / self.stride) + 1\n",
    "        width = int((width + 2 * self.pad_size - self.filter_shape[0]) / self.stride) + 1\n",
    "        # check for odd heights and widths\n",
    "        if height % 2 != 0 and width % 2 != 0:\n",
    "            height += 1\n",
    "            width += 1\n",
    "#         print(height)\n",
    "#         print(width)\n",
    "#         print(filter_shape[0]-1)\n",
    "        \n",
    "        for i in range(height-(filter_shape[0]-1)):\n",
    "            for j in range(width-(filter_shape[0]-1)):\n",
    "#                 i_start = i * self.stride\n",
    "#                 i_end = i_start + filter_shape[0]\n",
    "#                 j_start = j * self.stride\n",
    "#                 j_end = j_start * filter_shape[0]\n",
    "#                 output = img[i_start:i_end, j_start:j_end]\n",
    "                output = img[i*self.stride:(i*self.stride+filter_shape[0]), j*self.stride:(j*self.stride+filter_shape[0])]\n",
    "#                 print(output, i, j)\n",
    "                yield output, i, j # 'yield' keyword will return any values and continue from the last value returned\n",
    "    \n",
    "    def conv2d(self, inputs):\n",
    "        if self.debugging==True: print(\"Before padding: \", inputs.shape)\n",
    "    \n",
    "        # padding\n",
    "        if(self.padding.lower() == 'same'): # same padding\n",
    "            height, width = inputs.shape\n",
    "            \n",
    "            pad_size = int(((height * self.stride) - height + self.filter_shape[0] - 1) / 2)\n",
    "            self.pad_size = pad_size\n",
    "\n",
    "            inputs = padding(inputs, pad_size) # apply padding according to the pad_size\n",
    "            height, width = inputs.shape # reinitialize height and width with padded image\n",
    "\n",
    "            new_height = int((height + 2 * pad_size - self.filter_shape[0]) / self.stride) + 1\n",
    "            new_width = int((width + 2 * pad_size - self.filter_shape[0]) / self.stride) + 1\n",
    "            # check for odd heights and widths\n",
    "            if new_height % 2 != 0 and new_width % 2 != 0:\n",
    "                new_height += 1\n",
    "                new_width += 1\n",
    "                \n",
    "            output = np.zeros((new_height, new_width, self.num_filters))\n",
    "            \n",
    "        elif(self.padding.lower() == 'valid'): # valid/no padding\n",
    "            height, width = inputs.shape\n",
    "            self.pad_size = 0\n",
    "            output = np.zeros((height-(self.filter_shape[0]-1), width-(self.filter_shape[0]-1), self.num_filters))\n",
    "            \n",
    "        if self.debugging==True: print(\"After padding: \", inputs.shape)\n",
    "        \n",
    "        for region, i, j in self.iterate(inputs, self.filter_shape):\n",
    "            output[i, j] = np.sum(region * self.filters, axis=(1,2))\n",
    "        \n",
    "        if self.debugging==True: print(\"After convolution: \", output.shape)\n",
    "        return output"
   ]
  },
  {
   "cell_type": "markdown",
   "metadata": {},
   "source": [
    "### With Padding"
   ]
  },
  {
   "cell_type": "code",
   "execution_count": 40,
   "metadata": {},
   "outputs": [
    {
     "name": "stdout",
     "output_type": "stream",
     "text": [
      "Before padding:  (28, 28)\n",
      "After padding:  (32, 32)\n",
      "After convolution:  (32, 32, 8)\n"
     ]
    },
    {
     "data": {
      "text/plain": [
       "(32, 32, 8)"
      ]
     },
     "execution_count": 40,
     "metadata": {},
     "output_type": "execute_result"
    }
   ],
   "source": [
    "(x_train, y_train), (x_test, y_test) = mnist.load_data()\n",
    "\n",
    "convolution = Convolution2D(filter_shape=(5,5), num_filters=8, padding='same', stride=1, debugging=True)\n",
    "output = convolution.conv2d(x_train[0]) # x_train = nxn shape\n",
    "output.shape # output should be the same after convolution"
   ]
  },
  {
   "cell_type": "markdown",
   "metadata": {},
   "source": [
    "### Without Padding"
   ]
  },
  {
   "cell_type": "code",
   "execution_count": 26,
   "metadata": {},
   "outputs": [
    {
     "name": "stdout",
     "output_type": "stream",
     "text": [
      "Before padding:  (28, 28)\n",
      "After padding:  (28, 28)\n",
      "After convolution:  (23, 23, 8)\n"
     ]
    },
    {
     "data": {
      "text/plain": [
       "(23, 23, 8)"
      ]
     },
     "execution_count": 26,
     "metadata": {},
     "output_type": "execute_result"
    }
   ],
   "source": [
    "(x_train, y_train), (x_test, y_test) = mnist.load_data()\n",
    "\n",
    "convolution = Convolution2D(filter_shape=(6,6), num_filters=8, stride=1, padding='valid')\n",
    "output = convolution.conv2d(x_train[0]) # x_train = nxn shape\n",
    "output.shape # output should be nxn because of padding"
   ]
  },
  {
   "cell_type": "markdown",
   "metadata": {},
   "source": [
    "Great! Now we can use padding by adding a parameter \"padding\" when calling the Convolution2D class"
   ]
  },
  {
   "cell_type": "markdown",
   "metadata": {},
   "source": [
    "## Part 5 - Back Propagation (Softmax)"
   ]
  },
  {
   "cell_type": "markdown",
   "metadata": {},
   "source": [
    "As we have seen before when we tried to train a model that only has forward propagation, it did not perform well as it did not learn anything from the training phase. This is because our model only knows how to calculate and output predictions without the ability to trace back (calculating gradients and update weights & biases)."
   ]
  },
  {
   "cell_type": "markdown",
   "metadata": {},
   "source": [
    "![BackpropURL](https://miro.medium.com/max/1742/1*FceBJSJ7j8jHjb4TmLV0Ew.png \"Backpropagation with its derivative\")"
   ]
  },
  {
   "cell_type": "markdown",
   "metadata": {},
   "source": [
    "From the illustration above, backpropagation starts from the very last layer of our convolutional model, which is the softmax layer. The gradient is simply the partial derivation from loss over the partial derivation from the activation function from previous layer\n",
    "\n",
    "\\begin{equation*}\n",
    "\\frac{\\partial L}{\\partial z} = 0 if {i \\neq c}\n",
    "\\end{equation*}\n",
    "\n",
    "\\begin{equation*}\n",
    "\\frac{\\partial L}{\\partial z} = \\frac{-1}{p_i} if {i = c}\n",
    "\\end{equation*}\n",
    "\n",
    "The partial derivation of this equation is simple:\n",
    "1. 0 if the prediction is not the same with the label\n",
    "2. -1/pi if the prediction is the same as the label"
   ]
  },
  {
   "cell_type": "markdown",
   "metadata": {},
   "source": [
    "Now we have completed the Softmax backpropagation phase. Now, let's calculate the gradient from activation function z.<br>\n",
    "<br>Recall that Softmax activation function is\n",
    "\\begin{equation*}\n",
    "S = {\\sum_{i} e^{t_i}}\n",
    "\\end{equation*}\n",
    "\n",
    "\\begin{equation*}\n",
    "z = \\frac{e^{x_i}} {\\sum_{j=1}^n e^{x_j}}\n",
    "\\end{equation*}\n",
    "\n",
    "We can substitute the denominator in z\n",
    "\\begin{equation*}\n",
    "z = \\frac{e^{x_i}} {S} = {e^{x_i}} {S^{-1}}\n",
    "\\end{equation*}\n",
    "\n",
    "Apply the chain rule to obtain the derivative\n",
    "\\begin{equation*}\n",
    "\\frac{\\partial z}{\\partial {t_k}} = \\frac{{-e^{t_c}}{e^{t_k}}}{S^2} \n",
    "\\end{equation*}\n",
    "\\begin{equation*}\n",
    "\\frac{\\partial z}{\\partial t_c} = \\frac{{e^{t_c}}{(S - e^{t_c})}}{S^2} \n",
    "\\end{equation*}\n",
    "\n",
    "Alright, let's implement them in the code!"
   ]
  },
  {
   "cell_type": "code",
   "execution_count": 27,
   "metadata": {},
   "outputs": [],
   "source": [
    "class Softmax:\n",
    "    # initialize random weights and zero biases\n",
    "    def __init__(self, num_features, num_nodes):\n",
    "        self.weights = np.random.randn(num_features, num_nodes) / num_features\n",
    "        self.biases = np.zeros(num_nodes)\n",
    "#         print(self.weights.shape)\n",
    "#         print(self.biases.shape)\n",
    "    \n",
    "    # move flatten inside the dense function\n",
    "#     def flatten(self, inputs):\n",
    "#         self.inputs = inputs.flatten()\n",
    "#         print(self.inputs.shape)\n",
    "    \n",
    "    # connects flattened layer with a fully connected layer (dense)\n",
    "    def dense(self, inputs):\n",
    "        self.last_input_shape = inputs.shape # cache the last input shape BEFORE FLATTENING\n",
    "        \n",
    "        inputs = inputs.flatten()\n",
    "        self.last_input = inputs # cache the last input shape AFTER FLATTENING\n",
    "        input_features, nodes = self.weights.shape\n",
    "        \n",
    "        z = np.dot(inputs, self.weights) + self.biases # z = W . X + b\n",
    "        self.z = z # cache z for backpropagation\n",
    "        a = np.exp(z) # a = g(z)\n",
    "        \n",
    "        return a / np.sum(a, axis=0) # e^a / sum(a)\n",
    "    \n",
    "    def back_propagation(self, dL, learning_rate):\n",
    "        for i, grad in enumerate(dL):\n",
    "            if grad == 0: continue; # ignores 0 gradient\n",
    "            \n",
    "            exp_total = np.exp(self.z) # total of e^\n",
    "            exp_sum = np.sum(exp_total) # sum of e^\n",
    "            \n",
    "            # gradients of z against totals\n",
    "            dz = -exp_total[i] * exp_total / (exp_sum ** 2)\n",
    "            dz[i] = exp_total[i] * (exp_sum - exp_total[i]) / (exp_sum ** 2)\n",
    "            \n",
    "            # gradients of totals against weights, biases, inputs\n",
    "            dt_dw = self.last_input\n",
    "            dt_db = 1\n",
    "            dt_di = self.weights\n",
    "            \n",
    "            # gradients of loss against totals\n",
    "            dL_dt = grad * dz\n",
    "            \n",
    "            # gradients of loss against weights, biases, and inputs\n",
    "            dL_dw = np.dot(dt_dw[np.newaxis].T, dL_dt[np.newaxis])\n",
    "            dL_db = dL_dt * dt_db\n",
    "            dL_di = np.dot(dt_di, dL_dt)\n",
    "            \n",
    "            # update weights and biases\n",
    "            self.weights -= learning_rate * dL_dw\n",
    "            self.biases -= learning_rate * dL_db\n",
    "            \n",
    "            return dL_di.reshape(self.last_input_shape)"
   ]
  },
  {
   "cell_type": "code",
   "execution_count": 28,
   "metadata": {},
   "outputs": [],
   "source": [
    "(x_train, y_train), (x_test, y_test) = mnist.load_data()"
   ]
  },
  {
   "cell_type": "code",
   "execution_count": 42,
   "metadata": {},
   "outputs": [],
   "source": [
    "convolution = Convolution2D(filter_shape=(3,3), num_filters=8, padding='same', stride=1)\n",
    "maxpool = MaxPool2D()\n",
    "softmax = Softmax(15*15*8, 10)"
   ]
  },
  {
   "cell_type": "code",
   "execution_count": 43,
   "metadata": {},
   "outputs": [],
   "source": [
    "def forward_propagation(img, label):\n",
    "    output = convolution.conv2d(img/255)\n",
    "    output = maxpool.pool(output)\n",
    "#     output = softmax.flatten(output)\n",
    "    output = softmax.dense(output)\n",
    "    \n",
    "    loss = -np.log(output[label]) # -log(x) --> softmax loss function\n",
    "    acc = 1 if np.argmax(output) == label else 0 # increase the accuracy if the predicted label = actual label\n",
    "    \n",
    "    return output, loss, acc"
   ]
  },
  {
   "cell_type": "code",
   "execution_count": 44,
   "metadata": {},
   "outputs": [],
   "source": [
    "def train(img, label, learning_rate):\n",
    "    # forward propagation\n",
    "    output, loss, acc = forward_propagation(img, label)\n",
    "    \n",
    "    # initial gradient\n",
    "    grad = np.zeros(10) # 10 different classes\n",
    "    grad[label] = -1 / output[label]\n",
    "    \n",
    "    # back propagation\n",
    "    grad = softmax.back_propagation(grad, learning_rate)\n",
    "    \n",
    "    return loss, acc"
   ]
  },
  {
   "cell_type": "code",
   "execution_count": 45,
   "metadata": {},
   "outputs": [
    {
     "name": "stdout",
     "output_type": "stream",
     "text": [
      "Epoch #0: Loss=0.000 | Accuracy=0.00%\n",
      "Epoch #100: Loss=2.357 | Accuracy=43.00%\n",
      "Epoch #200: Loss=1.320 | Accuracy=68.00%\n",
      "Epoch #300: Loss=1.313 | Accuracy=70.00%\n",
      "Epoch #400: Loss=0.948 | Accuracy=75.00%\n",
      "Epoch #500: Loss=0.817 | Accuracy=78.00%\n",
      "Epoch #600: Loss=1.274 | Accuracy=73.00%\n",
      "Epoch #700: Loss=1.341 | Accuracy=77.00%\n",
      "Epoch #800: Loss=0.750 | Accuracy=79.00%\n",
      "Epoch #900: Loss=1.624 | Accuracy=73.00%\n"
     ]
    }
   ],
   "source": [
    "l = 0\n",
    "acc = 0\n",
    "\n",
    "for i, (img, label) in enumerate(zip(x_train[:1000], y_train[:1000])):\n",
    "    if i % 100 == 0:\n",
    "        print(\"Epoch #%d: Loss=%.3f | Accuracy=%.2f%%\" % (i, l/100, acc))\n",
    "        l = 0\n",
    "        acc = 0\n",
    "    loss, accuracy = train(img, label, learning_rate=0.005)\n",
    "    l += loss\n",
    "    acc += accuracy"
   ]
  },
  {
   "cell_type": "markdown",
   "metadata": {},
   "source": [
    "Great it's working! Now you can see that the accuracy is gradually increasing each epoch. But this is still incomplete because we only backpropagate through the Softmax layer, we also have to backpropagate through the MaxPooling and Convolution2D layer"
   ]
  },
  {
   "cell_type": "markdown",
   "metadata": {},
   "source": [
    "## Part 6 - Back Propagation (MaxPool & Conv2D)"
   ]
  },
  {
   "cell_type": "markdown",
   "metadata": {},
   "source": [
    "In the forward propagation phase, pooling layer halves the dimension by extracting a maximum value over 2x2 blocks. Now backpropagation does the opposite: <b>double the dimension of the loss gradient by assigning each gradient value to where the original max value was</b> in its 2x2 block\n",
    "\n",
    "![PoolBackpropURL](https://victorzhou.com/media/cnn-post/maxpool-forward.svg \"2x2 MaxPooling Backpropagation\")\n",
    "Image taken from: https://victorzhou.com/blog/intro-to-cnns-part-2/"
   ]
  },
  {
   "cell_type": "code",
   "execution_count": 56,
   "metadata": {},
   "outputs": [],
   "source": [
    "class MaxPool2D:\n",
    "    def iterate(self, img):\n",
    "        height, width, _ = img.shape\n",
    "        h = height//2\n",
    "        w = width//2\n",
    "        \n",
    "        for i in range(h):\n",
    "            for j in range(w):\n",
    "                new_region = img[(i*2):(i*2+2), (j*2):(j*2+2)]\n",
    "                yield new_region, i, j\n",
    "    \n",
    "    # 2x2 maxpool --> nxn maxpool if possible\n",
    "    def pool(self, inputs):\n",
    "        self.last_input = inputs # cache last input for backpropagation\n",
    "        \n",
    "        height, width, num_filters = inputs.shape\n",
    "        output = np.zeros((height//2, width//2, num_filters))\n",
    "        \n",
    "        for img_region, i, j in self.iterate(inputs):\n",
    "            output[i, j] = np.max(img_region, axis=(0,1))\n",
    "        \n",
    "        return output\n",
    "    \n",
    "    def back_propagation(self, dL_output):\n",
    "        dL_input = np.zeros((self.last_input.shape))\n",
    "        \n",
    "        for img_region, i, j in self.iterate(self.last_input):\n",
    "            height, width, num_filters = img_region.shape\n",
    "            # find the max value for each region\n",
    "            maxi = np.max(img_region, axis=(0,1))\n",
    "            \n",
    "            for k in range(height):\n",
    "                for l in range(width):\n",
    "                    for m in range(num_filters):\n",
    "                        if img_region[k, l, m] == maxi[m]: # if the max values match, copy the gradient\n",
    "                            dL_input[i*2+k, j*2+l, m] = dL_output[i, j, m]\n",
    "        return dL_input"
   ]
  },
  {
   "cell_type": "markdown",
   "metadata": {},
   "source": [
    "For backpropagation on Convolution 2D, we are only interested in <b>the loss gradient for the filters in the convolutional layers</b> to update filter weights and biases."
   ]
  },
  {
   "cell_type": "code",
   "execution_count": 57,
   "metadata": {},
   "outputs": [],
   "source": [
    "class Convolution2D:\n",
    "    def __init__(self, filter_shape, num_filters):\n",
    "        self.filter_shape = filter_shape\n",
    "        self.num_filters = num_filters\n",
    "        self.filters = np.random.randn(num_filters, filter_shape[0], filter_shape[0]) # random initialization\n",
    "        \n",
    "    def iterate(self, img, filter_shape):\n",
    "        height, width = img.shape\n",
    "        \n",
    "        for i in range(height - 2):\n",
    "            for j in range(width - 2):\n",
    "                output = img[i:(i+filter_shape[0]), j:(j+filter_shape[0])]\n",
    "                yield output, i, j # 'yield' keyword will return any values and continue from the last value returned\n",
    "    \n",
    "    def conv2d(self, inputs):\n",
    "        self.last_input = inputs # cache the last input for backpropagation\n",
    "        \n",
    "        height, width = inputs.shape\n",
    "        output = np.zeros((height-2, width-2, self.num_filters)) \n",
    "        \n",
    "        for region, i, j in self.iterate(inputs, self.filter_shape):\n",
    "            output[i, j] = np.sum(region * self.filters, axis=(1,2))\n",
    "#             print(region * self.filters)\n",
    "        \n",
    "        return output\n",
    "    \n",
    "    def back_propagation(self, dL, learning_rate):\n",
    "        dL_filters = np.zeros(self.filters.shape)\n",
    "        \n",
    "        for img_region, i, j in self.iterate(self.last_input, self.filter_shape):\n",
    "            for k in range(self.num_filters):\n",
    "                dL_filters[k] += dL[i, j, k] * img_region\n",
    "        \n",
    "        # don't forget to update the filters\n",
    "        self.filters -= learning_rate * dL_filters\n",
    "        \n",
    "        return None"
   ]
  },
  {
   "cell_type": "markdown",
   "metadata": {},
   "source": [
    "## Part 7 - Putting it altogether"
   ]
  },
  {
   "cell_type": "markdown",
   "metadata": {},
   "source": [
    "Now the basic construction for our model is complete! Let's put them together"
   ]
  },
  {
   "cell_type": "code",
   "execution_count": 75,
   "metadata": {},
   "outputs": [],
   "source": [
    "(x_train, y_train), (x_test, y_test) = mnist.load_data()"
   ]
  },
  {
   "cell_type": "code",
   "execution_count": 76,
   "metadata": {},
   "outputs": [],
   "source": [
    "conv = Convolution2D(num_filters=8, filter_shape=(3,3))\n",
    "pooling = MaxPool2D()\n",
    "softmax = Softmax(13*13*8, 10)"
   ]
  },
  {
   "cell_type": "code",
   "execution_count": 77,
   "metadata": {},
   "outputs": [],
   "source": [
    "def forward_propagation(img, label):\n",
    "    # define the model\n",
    "    model = conv.conv2d(img/255)\n",
    "    model = pooling.pool(model)\n",
    "    model = softmax.dense(model)\n",
    "    \n",
    "    # calculate loss\n",
    "    loss = -np.log(model[label])\n",
    "    acc = 1 if np.argmax(model) == label else 0\n",
    "    \n",
    "    return model, loss, acc"
   ]
  },
  {
   "cell_type": "code",
   "execution_count": 78,
   "metadata": {},
   "outputs": [],
   "source": [
    "def train(img, label, learning_rate=0.005):\n",
    "    # forward propagation\n",
    "    output, loss, acc = forward_propagation(img, label) # test with 1000 images\n",
    "    # initial gradient\n",
    "    grad = np.zeros(10)\n",
    "    grad[label] = -1 / output[label]\n",
    "    # back propagation\n",
    "    grad = softmax.back_propagation(grad, learning_rate)\n",
    "#     print(grad.shape)\n",
    "    grad = pooling.back_propagation(grad)\n",
    "    grad = conv.back_propagation(grad, learning_rate)\n",
    "    \n",
    "    return loss, acc"
   ]
  },
  {
   "cell_type": "code",
   "execution_count": 79,
   "metadata": {},
   "outputs": [
    {
     "name": "stdout",
     "output_type": "stream",
     "text": [
      "EPOCH # 0\n",
      "Step #0: Loss=0.000 | Accuracy=0 %\n",
      "Step #100: Loss=1.950 | Accuracy=45 %\n",
      "Step #200: Loss=1.168 | Accuracy=67 %\n",
      "Step #300: Loss=0.956 | Accuracy=71 %\n",
      "Step #400: Loss=0.709 | Accuracy=81 %\n",
      "Step #500: Loss=0.613 | Accuracy=81 %\n",
      "Step #600: Loss=0.902 | Accuracy=75 %\n",
      "Step #700: Loss=0.859 | Accuracy=80 %\n",
      "Step #800: Loss=0.507 | Accuracy=84 %\n",
      "Step #900: Loss=0.894 | Accuracy=80 %\n",
      "EPOCH # 1\n",
      "Step #0: Loss=0.000 | Accuracy=0 %\n",
      "Step #100: Loss=0.360 | Accuracy=89 %\n",
      "Step #200: Loss=0.454 | Accuracy=86 %\n",
      "Step #300: Loss=0.490 | Accuracy=85 %\n",
      "Step #400: Loss=0.235 | Accuracy=93 %\n",
      "Step #500: Loss=0.346 | Accuracy=87 %\n",
      "Step #600: Loss=0.337 | Accuracy=90 %\n",
      "Step #700: Loss=0.405 | Accuracy=86 %\n",
      "Step #800: Loss=0.282 | Accuracy=92 %\n",
      "Step #900: Loss=0.395 | Accuracy=88 %\n",
      "EPOCH # 2\n",
      "Step #0: Loss=0.000 | Accuracy=0 %\n",
      "Step #100: Loss=0.198 | Accuracy=95 %\n",
      "Step #200: Loss=0.188 | Accuracy=93 %\n",
      "Step #300: Loss=0.303 | Accuracy=90 %\n",
      "Step #400: Loss=0.091 | Accuracy=99 %\n",
      "Step #500: Loss=0.202 | Accuracy=91 %\n",
      "Step #600: Loss=0.167 | Accuracy=95 %\n",
      "Step #700: Loss=0.222 | Accuracy=95 %\n",
      "Step #800: Loss=0.193 | Accuracy=94 %\n",
      "Step #900: Loss=0.242 | Accuracy=95 %\n"
     ]
    }
   ],
   "source": [
    "# train the model\n",
    "for epoch in range(3):\n",
    "    print(\"EPOCH #\", epoch)\n",
    "    \n",
    "    loss = 0\n",
    "    accuracy = 0\n",
    "    for i, (img, label) in enumerate(zip(x_train[:1000], y_train[:1000])):\n",
    "        if i % 100 == 0:\n",
    "            print(\"Step #%d: Loss=%.3f | Accuracy=%d %%\" % (i, loss/100, accuracy))\n",
    "            loss = 0\n",
    "            accuracy = 0\n",
    "            \n",
    "        l, acc = train(img, label)\n",
    "        loss += l\n",
    "        accuracy += acc"
   ]
  },
  {
   "cell_type": "code",
   "execution_count": 83,
   "metadata": {},
   "outputs": [
    {
     "name": "stdout",
     "output_type": "stream",
     "text": [
      "Test Loss:  0.6366723476818364\n",
      "Test Accuracy:  81.39999999999999 %\n"
     ]
    }
   ],
   "source": [
    "# test the model\n",
    "loss = 0\n",
    "accuracy = 0\n",
    "for img, label in zip(x_test[:1000], y_test[:1000]):\n",
    "    _, l, acc = forward_propagation(img, label)\n",
    "    loss += l\n",
    "    accuracy += acc\n",
    "            \n",
    "print(\"Test Loss: \", loss/len(x_test[:1000]))\n",
    "print(\"Test Accuracy: \", accuracy/len(x_test[:1000])* 100, '%')"
   ]
  },
  {
   "cell_type": "markdown",
   "metadata": {},
   "source": [
    "## Part 8 - Keras Model"
   ]
  },
  {
   "cell_type": "markdown",
   "metadata": {},
   "source": [
    "Let's compare our model with keras built-in library model"
   ]
  },
  {
   "cell_type": "code",
   "execution_count": 84,
   "metadata": {},
   "outputs": [
    {
     "name": "stderr",
     "output_type": "stream",
     "text": [
      "Using TensorFlow backend.\n"
     ]
    }
   ],
   "source": [
    "from keras.models import Sequential\n",
    "from keras.layers import Conv2D, MaxPool2D, Flatten, Dense\n",
    "from keras.utils import to_categorical\n",
    "from keras import optimizers"
   ]
  },
  {
   "cell_type": "code",
   "execution_count": 85,
   "metadata": {},
   "outputs": [],
   "source": [
    "(x_train, y_train), (x_test, y_test) = mnist.load_data()"
   ]
  },
  {
   "cell_type": "code",
   "execution_count": 86,
   "metadata": {},
   "outputs": [],
   "source": [
    "# normalization\n",
    "x_train = x_train/255\n",
    "x_test = x_test/255\n",
    "\n",
    "# reshape\n",
    "x_train = np.reshape(x_train, ((60000,28,28,1)))\n",
    "x_test = np.reshape(x_test, (10000,28, 28,1))\n",
    "\n",
    "# one-hot encoding for label y\n",
    "y_train = to_categorical(y_train, 10)\n",
    "y_test = to_categorical(y_test, 10)"
   ]
  },
  {
   "cell_type": "code",
   "execution_count": 87,
   "metadata": {},
   "outputs": [
    {
     "data": {
      "text/plain": [
       "(10000, 10)"
      ]
     },
     "execution_count": 87,
     "metadata": {},
     "output_type": "execute_result"
    }
   ],
   "source": [
    "y_test.shape"
   ]
  },
  {
   "cell_type": "code",
   "execution_count": 88,
   "metadata": {},
   "outputs": [
    {
     "name": "stdout",
     "output_type": "stream",
     "text": [
      "_________________________________________________________________\n",
      "Layer (type)                 Output Shape              Param #   \n",
      "=================================================================\n",
      "conv2d_1 (Conv2D)            (None, 28, 28, 8)         80        \n",
      "_________________________________________________________________\n",
      "max_pooling2d_1 (MaxPooling2 (None, 14, 14, 8)         0         \n",
      "_________________________________________________________________\n",
      "flatten_1 (Flatten)          (None, 1568)              0         \n",
      "_________________________________________________________________\n",
      "dense_1 (Dense)              (None, 10)                15690     \n",
      "=================================================================\n",
      "Total params: 15,770\n",
      "Trainable params: 15,770\n",
      "Non-trainable params: 0\n",
      "_________________________________________________________________\n"
     ]
    }
   ],
   "source": [
    "# create the model with the same hyperparameters as the scratch model\n",
    "keras_model = Sequential()\n",
    "keras_model.add(Conv2D(filters=8, kernel_size=(3,3), padding='same', activation='relu', input_shape=(28,28,1)))\n",
    "keras_model.add(MaxPool2D(pool_size=2))\n",
    "\n",
    "keras_model.add(Flatten())\n",
    "keras_model.add(Dense(10, activation='softmax'))\n",
    "\n",
    "opt = optimizers.SGD(lr=0.01)\n",
    "keras_model.compile(optimizer=opt, loss='categorical_crossentropy', metrics=['accuracy']) # optimizer is not yet implemented\n",
    "keras_model.summary()"
   ]
  },
  {
   "cell_type": "code",
   "execution_count": 89,
   "metadata": {},
   "outputs": [
    {
     "name": "stdout",
     "output_type": "stream",
     "text": [
      "Train on 669 samples, validate on 331 samples\n",
      "Epoch 1/3\n",
      "669/669 [==============================] - 6s 9ms/step - loss: 1.2066 - acc: 0.6054 - val_loss: 0.6571 - val_acc: 0.7946\n",
      "Epoch 2/3\n",
      "669/669 [==============================] - 5s 8ms/step - loss: 0.4856 - acc: 0.8460 - val_loss: 0.5887 - val_acc: 0.8338\n",
      "Epoch 3/3\n",
      "669/669 [==============================] - 6s 10ms/step - loss: 0.3171 - acc: 0.8969 - val_loss: 0.6336 - val_acc: 0.8248\n"
     ]
    }
   ],
   "source": [
    "history = keras_model.fit(x_train[:1000], y_train[:1000], validation_split=0.33, batch_size=1, epochs=3)"
   ]
  },
  {
   "cell_type": "code",
   "execution_count": 90,
   "metadata": {},
   "outputs": [
    {
     "name": "stdout",
     "output_type": "stream",
     "text": [
      "1000/1000 [==============================] - 0s 273us/step\n"
     ]
    },
    {
     "data": {
      "text/plain": [
       "[0.5380505723953247, 0.822]"
      ]
     },
     "execution_count": 90,
     "metadata": {},
     "output_type": "execute_result"
    }
   ],
   "source": [
    "keras_model.evaluate(x_test[:1000], y_test[:1000])"
   ]
  },
  {
   "cell_type": "markdown",
   "metadata": {},
   "source": [
    "Not bad! It is similar with our scratch model achieving ~80% accuracy on the test set"
   ]
  },
  {
   "cell_type": "code",
   "execution_count": null,
   "metadata": {},
   "outputs": [],
   "source": []
  }
 ],
 "metadata": {
  "kernelspec": {
   "display_name": "Python 3",
   "language": "python",
   "name": "python3"
  },
  "language_info": {
   "codemirror_mode": {
    "name": "ipython",
    "version": 3
   },
   "file_extension": ".py",
   "mimetype": "text/x-python",
   "name": "python",
   "nbconvert_exporter": "python",
   "pygments_lexer": "ipython3",
   "version": "3.6.6"
  }
 },
 "nbformat": 4,
 "nbformat_minor": 2
}
