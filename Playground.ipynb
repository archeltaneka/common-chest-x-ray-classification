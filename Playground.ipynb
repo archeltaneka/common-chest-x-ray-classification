{
 "cells": [
  {
   "cell_type": "markdown",
   "metadata": {},
   "source": [
    "# Playground"
   ]
  },
  {
   "cell_type": "markdown",
   "metadata": {},
   "source": [
    "Use this to play around with the code before jumping right into the script!!\n",
    "Goodluck :)"
   ]
  },
  {
   "cell_type": "markdown",
   "metadata": {},
   "source": [
    "This is for making the convolutional algorithm from scratch"
   ]
  },
  {
   "cell_type": "code",
   "execution_count": 1,
   "metadata": {},
   "outputs": [],
   "source": [
    "import numpy as np\n",
    "import matplotlib.pyplot as plt\n",
    "\n",
    "%matplotlib inline"
   ]
  },
  {
   "cell_type": "code",
   "execution_count": 2,
   "metadata": {},
   "outputs": [],
   "source": [
    "#let's use simple data with mnist digits\n",
    "from tensorflow.keras.datasets import mnist\n",
    "\n",
    "(x_train, y_train), (x_test, y_test) = mnist.load_data()"
   ]
  },
  {
   "cell_type": "code",
   "execution_count": 3,
   "metadata": {},
   "outputs": [
    {
     "data": {
      "text/plain": [
       "(60000, 28, 28)"
      ]
     },
     "execution_count": 3,
     "metadata": {},
     "output_type": "execute_result"
    }
   ],
   "source": [
    "x_train.shape"
   ]
  },
  {
   "cell_type": "code",
   "execution_count": 4,
   "metadata": {},
   "outputs": [
    {
     "data": {
      "text/plain": [
       "(60000,)"
      ]
     },
     "execution_count": 4,
     "metadata": {},
     "output_type": "execute_result"
    }
   ],
   "source": [
    "y_train.shape"
   ]
  },
  {
   "cell_type": "code",
   "execution_count": 5,
   "metadata": {},
   "outputs": [
    {
     "data": {
      "text/plain": [
       "<matplotlib.image.AxesImage at 0x1e80912e710>"
      ]
     },
     "execution_count": 5,
     "metadata": {},
     "output_type": "execute_result"
    },
    {
     "data": {
      "image/png": "[encoded data removed]",
      "text/plain": [
       "<Figure size 432x288 with 1 Axes>"
      ]
     },
     "metadata": {
      "needs_background": "light"
     },
     "output_type": "display_data"
    }
   ],
   "source": [
    "plt.imshow(x_train[0], cmap='gray')"
   ]
  },
  {
   "cell_type": "markdown",
   "metadata": {},
   "source": [
    "## Part 1 - Convolutional2D"
   ]
  },
  {
   "cell_type": "markdown",
   "metadata": {},
   "source": [
    "Convolution between image and the filter"
   ]
  },
  {
   "cell_type": "code",
   "execution_count": 6,
   "metadata": {},
   "outputs": [],
   "source": [
    "class Convolution2D:\n",
    "    def __init__(self, filter_shape, num_filters):\n",
    "        self.filter_shape = filter_shape\n",
    "        self.num_filters = num_filters\n",
    "        self.filters = np.random.randn(num_filters, filter_shape[0], filter_shape[0]) # random initialization\n",
    "        \n",
    "    def iterate(self, img, filter_shape):\n",
    "        height, width = img.shape\n",
    "        \n",
    "        for i in range(height - 2):\n",
    "            for j in range(width - 2):\n",
    "                output = img[i:(i+filter_shape[0]), j:(j+filter_shape[0])]\n",
    "                yield output, i, j # 'yield' keyword will return any values and continue from the last value returned\n",
    "    \n",
    "    def conv2d(self, inputs):\n",
    "        height, width = inputs.shape\n",
    "        output = np.zeros((height-2, width-2, self.num_filters)) \n",
    "        \n",
    "        for region, i, j in self.iterate(inputs, self.filter_shape):\n",
    "            output[i, j] = np.sum(region * self.filters, axis=(1,2))\n",
    "#             print(region.shape)\n",
    "#             print(self.filters.shape)\n",
    "#             print(region * self.filters)\n",
    "        \n",
    "        return output"
   ]
  },
  {
   "cell_type": "code",
   "execution_count": 7,
   "metadata": {},
   "outputs": [
    {
     "data": {
      "text/plain": [
       "(26, 26, 8)"
      ]
     },
     "execution_count": 7,
     "metadata": {},
     "output_type": "execute_result"
    }
   ],
   "source": [
    "(x_train, y_train), (x_test, y_test) = mnist.load_data()\n",
    "\n",
    "convolution = Convolution2D(filter_shape=(3,3), num_filters=8)\n",
    "output = convolution.conv2d(x_train[0]) # x_train = 28x28 shape\n",
    "output.shape # output should be 26x26 because of the convolution computation"
   ]
  },
  {
   "cell_type": "markdown",
   "metadata": {},
   "source": [
    "## Part 2 - Maxpool2D"
   ]
  },
  {
   "cell_type": "code",
   "execution_count": 8,
   "metadata": {},
   "outputs": [],
   "source": [
    "class MaxPool2D:\n",
    "    def iterate(self, img):\n",
    "        height, width, _ = img.shape\n",
    "        h = height//2\n",
    "        w = width//2\n",
    "        \n",
    "        for i in range(h):\n",
    "            for j in range(w):\n",
    "                new_region = img[(i*2):(i*2+2), (j*2):(j*2+2)]\n",
    "                yield new_region, i, j\n",
    "    \n",
    "    # 2x2 maxpool --> nxn maxpool if possible\n",
    "    def pool(self, inputs):\n",
    "        height, width, num_filters = inputs.shape\n",
    "        output = np.zeros((height//2, width//2, num_filters))\n",
    "        \n",
    "        for img_region, i, j in self.iterate(inputs):\n",
    "            output[i, j] = np.max(img_region, axis=(0,1))\n",
    "        \n",
    "        return output"
   ]
  },
  {
   "cell_type": "code",
   "execution_count": 9,
   "metadata": {},
   "outputs": [
    {
     "data": {
      "text/plain": [
       "(13, 13, 8)"
      ]
     },
     "execution_count": 9,
     "metadata": {},
     "output_type": "execute_result"
    }
   ],
   "source": [
    "(x_train, y_train), (x_test, y_test) = mnist.load_data()\n",
    "\n",
    "convolution = Convolution2D(filter_shape=(3,3), num_filters=8)\n",
    "maxpool = MaxPool2D()\n",
    "\n",
    "output = convolution.conv2d(x_train[0]) # x_train = 28x28 shape\n",
    "output = maxpool.pool(output) # 26x26x8 before pooling\n",
    "output.shape # should be 13x13x8 after pooling"
   ]
  },
  {
   "cell_type": "markdown",
   "metadata": {},
   "source": [
    "## Part 3 - Dense Layer"
   ]
  },
  {
   "cell_type": "code",
   "execution_count": 40,
   "metadata": {},
   "outputs": [],
   "source": [
    "class Softmax:\n",
    "    # initialize random weights and zero biases\n",
    "    def __init__(self, num_features, num_nodes):\n",
    "        self.weights = np.random.randn(num_features, num_nodes) / num_features\n",
    "        self.biases = np.zeros(num_nodes)\n",
    "#         print(self.weights.shape)\n",
    "#         print(self.biases.shape)\n",
    "    \n",
    "    # flattens out the previous layer\n",
    "    def flatten(self, inputs):\n",
    "        self.inputs = inputs.flatten()\n",
    "#         print(self.inputs.shape)\n",
    "    \n",
    "    # connects flattened layer with a fully connected layer (dense)\n",
    "    def dense(self, inputs):\n",
    "        input_features, nodes = self.weights.shape\n",
    "        \n",
    "        z = np.dot(self.inputs, self.weights) + self.biases # z = W . X + b\n",
    "        a = np.exp(z) # a = g(z)\n",
    "\n",
    "        return a / np.sum(a, axis=0) # e^a / sum(a)"
   ]
  },
  {
   "cell_type": "code",
   "execution_count": 12,
   "metadata": {},
   "outputs": [
    {
     "name": "stdout",
     "output_type": "stream",
     "text": [
      "(10,)\n"
     ]
    }
   ],
   "source": [
    "(x_train, y_train), (x_test, y_test) = mnist.load_data()\n",
    "\n",
    "convolution = Convolution2D(filter_shape=(3,3), num_filters=8)\n",
    "maxpool = MaxPool2D()\n",
    "softmax = Softmax(13*13*8, 10, activation='softmax') # 13x13 input to softmax from maxpool's output --> 26x26 original size\n",
    "\n",
    "output = convolution.conv2d(x_train[0]) \n",
    "output = maxpool.pool(output)\n",
    "output = softmax.flatten(output)\n",
    "output = softmax.dense(output)\n",
    "\n",
    "print(output.shape)"
   ]
  },
  {
   "cell_type": "markdown",
   "metadata": {},
   "source": [
    "# Part 4 - Forward Propagation"
   ]
  },
  {
   "cell_type": "code",
   "execution_count": 13,
   "metadata": {},
   "outputs": [],
   "source": [
    "(x_train, y_train), (x_test, y_test) = mnist.load_data()"
   ]
  },
  {
   "cell_type": "code",
   "execution_count": 14,
   "metadata": {},
   "outputs": [],
   "source": [
    "convolution = Convolution2D(filter_shape=(3,3), num_filters=8)\n",
    "maxpool = MaxPool2D()\n",
    "softmax = Softmax(13*13*8, 10, activation='softmax')"
   ]
  },
  {
   "cell_type": "code",
   "execution_count": 15,
   "metadata": {},
   "outputs": [],
   "source": [
    "def forward_propagation(img, label):\n",
    "    output = convolution.conv2d(img/255)\n",
    "    output = maxpool.pool(output)\n",
    "    output = softmax.flatten(output)\n",
    "    output = softmax.dense(output)\n",
    "    \n",
    "    loss = -np.log(output[label]) # -log(x) --> softmax loss function\n",
    "    acc = 1 if np.argmax(output) == label else 0 # increase the accuracy if the predicted label = actual label\n",
    "    \n",
    "    return output, loss, acc"
   ]
  },
  {
   "cell_type": "markdown",
   "metadata": {},
   "source": [
    "Let's train the data"
   ]
  },
  {
   "cell_type": "code",
   "execution_count": 16,
   "metadata": {},
   "outputs": [
    {
     "name": "stdout",
     "output_type": "stream",
     "text": [
      "Epoch 0 : Loss=  0.023147506817705298 | Accuracy= 0 %\n",
      "Epoch 100 : Loss=  2.30030483621107 | Accuracy= 10 %\n",
      "Epoch 200 : Loss=  2.298083537522648 | Accuracy= 14 %\n",
      "Epoch 300 : Loss=  2.2958402460304286 | Accuracy= 17 %\n",
      "Epoch 400 : Loss=  2.297366337322565 | Accuracy= 18 %\n",
      "Epoch 500 : Loss=  2.297146552203074 | Accuracy= 18 %\n",
      "Epoch 600 : Loss=  2.2987770967213463 | Accuracy= 12 %\n",
      "Epoch 700 : Loss=  2.296604836276269 | Accuracy= 11 %\n",
      "Epoch 800 : Loss=  2.296966659245608 | Accuracy= 16 %\n",
      "Epoch 900 : Loss=  2.298798865838092 | Accuracy= 11 %\n"
     ]
    }
   ],
   "source": [
    "total_loss = 0\n",
    "accuracy = 0\n",
    "\n",
    "for i, (img, label) in enumerate(zip(x_train[:1000], y_train[:1000])): # let's train first 1000 data for simplicity \n",
    "    _, loss, acc = forward_propagation(img, label)\n",
    "    total_loss += loss\n",
    "    accuracy += acc\n",
    "    \n",
    "    if i % 100 == 0:\n",
    "        print(\"Epoch\", i, \": Loss= \", total_loss/100, \"| Accuracy=\", accuracy, \"%\")\n",
    "        \n",
    "        total_loss = 0\n",
    "        accuracy = 0"
   ]
  },
  {
   "cell_type": "markdown",
   "metadata": {},
   "source": [
    "FINALLY DONEEEEE!!!! but still no backprop :(\n",
    "\n",
    "TBD:\n",
    "1. backpropagation, obviously --> https://becominghuman.ai/back-propagation-in-convolutional-neural-networks-intuition-and-code-714ef1c38199\n",
    "2. padding, stride\n",
    "3. ..."
   ]
  },
  {
   "cell_type": "markdown",
   "metadata": {},
   "source": [
    "### Padding"
   ]
  },
  {
   "cell_type": "markdown",
   "metadata": {},
   "source": [
    "Padding is useful when we want to keep the resolution of the image (does not shrink after the convolution)"
   ]
  },
  {
   "cell_type": "code",
   "execution_count": 6,
   "metadata": {},
   "outputs": [],
   "source": [
    "def padding(img, pad):\n",
    "    img_pad = np.pad(img, ((pad, pad), (pad,pad)), 'constant', constant_values=0)\n",
    "    \n",
    "    return img_pad"
   ]
  },
  {
   "cell_type": "code",
   "execution_count": 7,
   "metadata": {
    "scrolled": true
   },
   "outputs": [
    {
     "name": "stdout",
     "output_type": "stream",
     "text": [
      "x.shape = (28, 28)\n",
      "x_pad.shape = (30, 30)\n",
      "x[1,1] = [[  0   0   0   0   0   0   0   0   0   0   0   0   0   0   0   0   0   0\n",
      "    0   0   0   0   0   0   0   0   0   0]\n",
      " [  0   0   0   0   0   0   0   0   0   0   0   0   0   0   0   0   0   0\n",
      "    0   0   0   0   0   0   0   0   0   0]\n",
      " [  0   0   0   0   0   0   0   0   0   0   0   0   0   0   0   0   0   0\n",
      "    0   0   0   0   0   0   0   0   0   0]\n",
      " [  0   0   0   0   0   0   0   0   0   0   0   0   0   0   0   0   0   0\n",
      "    0   0   0   0   0   0   0   0   0   0]\n",
      " [  0   0   0   0   0   0   0   0   0   0   0   0   0   0   0  51 159 253\n",
      "  159  50   0   0   0   0   0   0   0   0]\n",
      " [  0   0   0   0   0   0   0   0   0   0   0   0   0   0  48 238 252 252\n",
      "  252 237   0   0   0   0   0   0   0   0]\n",
      " [  0   0   0   0   0   0   0   0   0   0   0   0   0  54 227 253 252 239\n",
      "  233 252  57   6   0   0   0   0   0   0]\n",
      " [  0   0   0   0   0   0   0   0   0   0   0  10  60 224 252 253 252 202\n",
      "   84 252 253 122   0   0   0   0   0   0]\n",
      " [  0   0   0   0   0   0   0   0   0   0   0 163 252 252 252 253 252 252\n",
      "   96 189 253 167   0   0   0   0   0   0]\n",
      " [  0   0   0   0   0   0   0   0   0   0  51 238 253 253 190 114 253 228\n",
      "   47  79 255 168   0   0   0   0   0   0]\n",
      " [  0   0   0   0   0   0   0   0   0  48 238 252 252 179  12  75 121  21\n",
      "    0   0 253 243  50   0   0   0   0   0]\n",
      " [  0   0   0   0   0   0   0   0  38 165 253 233 208  84   0   0   0   0\n",
      "    0   0 253 252 165   0   0   0   0   0]\n",
      " [  0   0   0   0   0   0   0   7 178 252 240  71  19  28   0   0   0   0\n",
      "    0   0 253 252 195   0   0   0   0   0]\n",
      " [  0   0   0   0   0   0   0  57 252 252  63   0   0   0   0   0   0   0\n",
      "    0   0 253 252 195   0   0   0   0   0]\n",
      " [  0   0   0   0   0   0   0 198 253 190   0   0   0   0   0   0   0   0\n",
      "    0   0 255 253 196   0   0   0   0   0]\n",
      " [  0   0   0   0   0   0  76 246 252 112   0   0   0   0   0   0   0   0\n",
      "    0   0 253 252 148   0   0   0   0   0]\n",
      " [  0   0   0   0   0   0  85 252 230  25   0   0   0   0   0   0   0   0\n",
      "    7 135 253 186  12   0   0   0   0   0]\n",
      " [  0   0   0   0   0   0  85 252 223   0   0   0   0   0   0   0   0   7\n",
      "  131 252 225  71   0   0   0   0   0   0]\n",
      " [  0   0   0   0   0   0  85 252 145   0   0   0   0   0   0   0  48 165\n",
      "  252 173   0   0   0   0   0   0   0   0]\n",
      " [  0   0   0   0   0   0  86 253 225   0   0   0   0   0   0 114 238 253\n",
      "  162   0   0   0   0   0   0   0   0   0]\n",
      " [  0   0   0   0   0   0  85 252 249 146  48  29  85 178 225 253 223 167\n",
      "   56   0   0   0   0   0   0   0   0   0]\n",
      " [  0   0   0   0   0   0  85 252 252 252 229 215 252 252 252 196 130   0\n",
      "    0   0   0   0   0   0   0   0   0   0]\n",
      " [  0   0   0   0   0   0  28 199 252 252 253 252 252 233 145   0   0   0\n",
      "    0   0   0   0   0   0   0   0   0   0]\n",
      " [  0   0   0   0   0   0   0  25 128 252 253 252 141  37   0   0   0   0\n",
      "    0   0   0   0   0   0   0   0   0   0]\n",
      " [  0   0   0   0   0   0   0   0   0   0   0   0   0   0   0   0   0   0\n",
      "    0   0   0   0   0   0   0   0   0   0]\n",
      " [  0   0   0   0   0   0   0   0   0   0   0   0   0   0   0   0   0   0\n",
      "    0   0   0   0   0   0   0   0   0   0]\n",
      " [  0   0   0   0   0   0   0   0   0   0   0   0   0   0   0   0   0   0\n",
      "    0   0   0   0   0   0   0   0   0   0]\n",
      " [  0   0   0   0   0   0   0   0   0   0   0   0   0   0   0   0   0   0\n",
      "    0   0   0   0   0   0   0   0   0   0]]\n",
      "x_pad[1,1] = [0 0 0 0 0 0 0 0 0 0 0 0 0 0 0 0 0 0 0 0 0 0 0 0 0 0 0 0 0 0]\n"
     ]
    },
    {
     "data": {
      "text/plain": [
       "<matplotlib.image.AxesImage at 0x1e80a1c56d8>"
      ]
     },
     "execution_count": 7,
     "metadata": {},
     "output_type": "execute_result"
    },
    {
     "data": {
      "image/png": "[encoded data removed]",
      "text/plain": [
       "<Figure size 432x288 with 2 Axes>"
      ]
     },
     "metadata": {
      "needs_background": "light"
     },
     "output_type": "display_data"
    }
   ],
   "source": [
    "x_pad = padding(x_train[0], 1)\n",
    "print (\"x.shape =\", x_train[0].shape)\n",
    "print (\"x_pad.shape =\", x_pad.shape)\n",
    "print (\"x[1,1] =\", x_train[1])\n",
    "print (\"x_pad[1,1] =\", x_pad[1])\n",
    "\n",
    "fig, axarr = plt.subplots(1, 2)\n",
    "axarr[0].set_title('x')\n",
    "axarr[0].imshow(x_train[0,:,:], cmap='gray')\n",
    "axarr[1].set_title('x_pad')\n",
    "axarr[1].imshow(x_pad[:,:], cmap='gray')"
   ]
  },
  {
   "cell_type": "markdown",
   "metadata": {},
   "source": [
    "Notice that the image with x_pad label looks kind of zoomed out than the original image, this is due to the zero padding that adds more pixel density to the image"
   ]
  },
  {
   "cell_type": "markdown",
   "metadata": {},
   "source": [
    "Now let's implement it in the Convolution2D class"
   ]
  },
  {
   "cell_type": "code",
   "execution_count": 155,
   "metadata": {},
   "outputs": [],
   "source": [
    "class Convolution2D:\n",
    "    def __init__(self, filter_shape, num_filters, padding, stride):\n",
    "        self.filter_shape = filter_shape\n",
    "        self.num_filters = num_filters\n",
    "        self.padding = padding\n",
    "        self.stride = stride\n",
    "        self.filters = np.random.randn(num_filters, filter_shape[0], filter_shape[0]) # random initialization\n",
    "        \n",
    "    def iterate(self, img, filter_shape):\n",
    "        height, width = img.shape\n",
    "        height = int((height + 2 * self.pad_size - self.filter_shape[0]) / self.stride) + 1\n",
    "        width = int((width + 2 * self.pad_size - self.filter_shape[0]) / self.stride) + 1\n",
    "        # check for odd heights and widths\n",
    "        if height % 2 != 0 and width % 2 != 0:\n",
    "            height += 1\n",
    "            width += 1\n",
    "#         print(height)\n",
    "#         print(width)\n",
    "#         print(filter_shape[0]-1)\n",
    "        \n",
    "        for i in range(height-(filter_shape[0]-1)):\n",
    "            for j in range(width-(filter_shape[0]-1)):\n",
    "#                 i_start = i * self.stride\n",
    "#                 i_end = i_start + filter_shape[0]\n",
    "#                 j_start = j * self.stride\n",
    "#                 j_end = j_start * filter_shape[0]\n",
    "#                 output = img[i_start:i_end, j_start:j_end]\n",
    "                output = img[i*self.stride:(i*self.stride+filter_shape[0]), j*self.stride:(j*self.stride+filter_shape[0])]\n",
    "#                 print(output, i, j)\n",
    "                yield output, i, j # 'yield' keyword will return any values and continue from the last value returned\n",
    "    \n",
    "    def conv2d(self, inputs):\n",
    "#         print(\"Before padding: \", inputs.shape)\n",
    "        self.last_input = inputs # cache the last input for backpropagation\n",
    "    \n",
    "        # padding\n",
    "        if(self.padding.lower() == 'same'): # same padding\n",
    "            height, width = inputs.shape\n",
    "            \n",
    "            pad_size = int(((height * self.stride) - height + self.filter_shape[0] - 1) / 2)\n",
    "            self.pad_size = pad_size\n",
    "\n",
    "            inputs = padding(inputs, pad_size) # apply padding according to the pad_size\n",
    "            height, width = inputs.shape # reinitialize height and width with padded image\n",
    "\n",
    "            new_height = int((height + 2 * pad_size - self.filter_shape[0]) / self.stride) + 1\n",
    "            new_width = int((width + 2 * pad_size - self.filter_shape[0]) / self.stride) + 1\n",
    "            # check for odd heights and widths\n",
    "            if new_height % 2 != 0 and new_width % 2 != 0:\n",
    "                new_height += 1\n",
    "                new_width += 1\n",
    "                \n",
    "            output = np.zeros((new_height, new_width, self.num_filters))\n",
    "            \n",
    "        elif(self.padding.lower() == 'valid'): # valid/no padding\n",
    "            height, width = inputs.shape\n",
    "            self.pad_size = 0\n",
    "            output = np.zeros((height-(self.filter_shape[0]-1), width-(self.filter_shape[0]-1), self.num_filters))\n",
    "            \n",
    "#         print(\"After padding: \", inputs.shape)\n",
    "        \n",
    "        for region, i, j in self.iterate(inputs, self.filter_shape):\n",
    "            output[i, j] = np.sum(region * self.filters, axis=(1,2))\n",
    "        \n",
    "#         print(\"After convolution: \", output.shape)\n",
    "        return output\n",
    "\n",
    "    def back_propagation(self, dL, learning_rate):\n",
    "        dL_filters = np.zeros(self.filters.shape)\n",
    "        \n",
    "        for img_region, i, j in self.iterate(self.last_input, self.filter_shape):\n",
    "            for k in range(self.num_filters):\n",
    "                dL_filters[k] += dL[i, j, k] * img_region\n",
    "        \n",
    "        # don't forget to update the filters\n",
    "        self.filters -= learning_rate * dL_filters\n",
    "        \n",
    "        return None"
   ]
  },
  {
   "cell_type": "code",
   "execution_count": 156,
   "metadata": {},
   "outputs": [
    {
     "data": {
      "text/plain": [
       "(32, 32, 8)"
      ]
     },
     "execution_count": 156,
     "metadata": {},
     "output_type": "execute_result"
    }
   ],
   "source": [
    "(x_train, y_train), (x_test, y_test) = mnist.load_data()\n",
    "\n",
    "convolution = Convolution2D(filter_shape=(5,5), num_filters=8, stride=1, padding='same')\n",
    "output = convolution.conv2d(x_train[0]) # x_train = nxn shape\n",
    "output.shape # output should be nxn because of padding"
   ]
  },
  {
   "cell_type": "code",
   "execution_count": 157,
   "metadata": {},
   "outputs": [
    {
     "data": {
      "text/plain": [
       "(32, 32, 8)"
      ]
     },
     "execution_count": 157,
     "metadata": {},
     "output_type": "execute_result"
    }
   ],
   "source": [
    "(x_train, y_train), (x_test, y_test) = mnist.load_data()\n",
    "\n",
    "convolution = Convolution2D(filter_shape=(6,6), num_filters=8, stride=1, padding='same')\n",
    "output = convolution.conv2d(x_train[0]) # x_train = nxn shape\n",
    "output.shape # output should be nxn because of padding"
   ]
  },
  {
   "cell_type": "code",
   "execution_count": 158,
   "metadata": {},
   "outputs": [],
   "source": [
    "class MaxPool2D:\n",
    "    def __init__(self, pool_size):\n",
    "        self.pool_size = pool_size\n",
    "    \n",
    "    def iterate(self, img):\n",
    "        height, width, _ = img.shape\n",
    "        h = height//self.pool_size\n",
    "        w = width//self.pool_size\n",
    "        \n",
    "        for i in range(h):\n",
    "            for j in range(w):\n",
    "                new_region = img[(i*self.pool_size):(i*self.pool_size+self.pool_size), \n",
    "                                 (j*self.pool_size):(j*self.pool_size+self.pool_size)]\n",
    "                yield new_region, i, j\n",
    "    \n",
    "    def pool(self, inputs):\n",
    "        self.last_input = inputs # cache the last input for backpropagation\n",
    "        \n",
    "        height, width, num_filters = inputs.shape\n",
    "        output = np.zeros((height//self.pool_size, width//self.pool_size, num_filters))\n",
    "        \n",
    "        for img_region, i, j in self.iterate(inputs):\n",
    "            output[i, j] = np.max(img_region, axis=(0,1))\n",
    "        \n",
    "#         print(\"After pooling: \", output.shape)\n",
    "        return output\n",
    "    \n",
    "    # backpropagation\n",
    "    def back_propagation(self, dL_output):\n",
    "        dL_input = np.zeros((self.last_input.shape))\n",
    "        \n",
    "        for img_region, i, j in self.iterate(self.last_input):\n",
    "            height, width, num_filters = img_region.shape\n",
    "            # find the max value for each region\n",
    "            maxi = np.max(img_region, axis=(0,1))\n",
    "            \n",
    "            for k in range(height):\n",
    "                for l in range(width):\n",
    "                    for m in range(num_filters):\n",
    "                        if img_region[k, l, m] == maxi[m]: # if the max values match, copy the gradient\n",
    "                            dL_input[i*2+k, j*2+l, m] = dL_output[i, j, m]\n",
    "        return dL_input"
   ]
  },
  {
   "cell_type": "code",
   "execution_count": 159,
   "metadata": {},
   "outputs": [
    {
     "data": {
      "text/plain": [
       "(15, 15, 8)"
      ]
     },
     "execution_count": 159,
     "metadata": {},
     "output_type": "execute_result"
    }
   ],
   "source": [
    "(x_train, y_train), (x_test, y_test) = mnist.load_data()\n",
    "\n",
    "convolution = Convolution2D(filter_shape=(3,3), num_filters=8, padding='same', stride=1)\n",
    "maxpool = MaxPool2D(pool_size=2)\n",
    "\n",
    "output = convolution.conv2d(x_train[0]) # x_train = 28x28 shape\n",
    "output = maxpool.pool(output) # 26x26x8 before pooling\n",
    "output.shape # should be 13x13x8 after pooling"
   ]
  },
  {
   "cell_type": "code",
   "execution_count": 160,
   "metadata": {},
   "outputs": [],
   "source": [
    "class Softmax:\n",
    "    # initialize random weights and zero biases\n",
    "    def __init__(self, num_features, num_nodes, activation):\n",
    "        self.weights = np.random.randn(num_features, num_nodes) / num_features\n",
    "        self.biases = np.zeros(num_nodes)\n",
    "        self.activation = activation\n",
    "#         print(self.weights.shape)\n",
    "#         print(self.biases.shape)\n",
    "    \n",
    "    # flattens out the previous layer\n",
    "    def flatten(self, inputs):\n",
    "        self.inputs = inputs.flatten()\n",
    "#         print(self.inputs.shape)\n",
    "    \n",
    "    # connects flattened layer with a fully connected layer (dense)\n",
    "    def dense(self, inputs):\n",
    "        self.last_input_shape = inputs.shape # cache the last input shape BEFORE FLATTENING\n",
    "        \n",
    "        inputs = inputs.flatten() # flatten\n",
    "        self.last_input = inputs # cache the last input shape AFTER FLATTENING\n",
    "        input_features, nodes = self.weights.shape\n",
    "        \n",
    "        z = np.dot(inputs, self.weights) + self.biases # z = W . X + b\n",
    "        self.z = z # cache z for backpropagation\n",
    "        \n",
    "        if(self.activation.lower() == 'softmax'):    \n",
    "            a = np.exp(z) # a = g(z)\n",
    "            return a / np.sum(a, axis=0) # e^a / sum(a)\n",
    "        \n",
    "        elif(self.activation.lower() == 'relu'):\n",
    "            return max(0, z)\n",
    "    \n",
    "    # forward propagate phase\n",
    "    def forward_propagation(self, img, label, output, reg_lambda):\n",
    "        # -log(x) --> softmax loss function\n",
    "        loss = (-np.log(output[label])) + (1/2 * reg_lambda * np.sum(self.weights ** 2)) # + regularization term\n",
    "        acc = 1 if np.argmax(output) == label else 0 # increase the accuracy if the predicted label = actual label\n",
    "\n",
    "        return output, loss, acc\n",
    "    \n",
    "    def back_propagation(self, dL, learning_rate, reg_lambda):\n",
    "        for i, grad in enumerate(dL):\n",
    "            if grad == 0: continue; # ignores 0 gradient\n",
    "            \n",
    "            exp_total = np.exp(self.z) # total of e^\n",
    "            exp_sum = np.sum(exp_total) # sum of e^\n",
    "            \n",
    "            # gradients of z against totals\n",
    "            dz = -exp_total[i] * exp_total / (exp_sum ** 2)\n",
    "            dz[i] = exp_total[i] * (exp_sum - exp_total[i]) / (exp_sum ** 2)\n",
    "            \n",
    "            # gradients of totals against weights, biases, inputs\n",
    "            dt_dw = self.last_input\n",
    "            dt_db = 1\n",
    "            dt_di = self.weights\n",
    "            \n",
    "            # gradients of loss against totals\n",
    "            dL_dt = grad * dz\n",
    "            \n",
    "            # gradients of loss against weights, biases, and inputs\n",
    "            dL_dw = np.dot(dt_dw[np.newaxis].T, dL_dt[np.newaxis])\n",
    "            dL_db = dL_dt * dt_db\n",
    "            dL_di = np.dot(dt_di, dL_dt)\n",
    "            \n",
    "            # add the regularization term\n",
    "            dL_dw += reg_lambda * self.weights\n",
    "            \n",
    "            # update weights and biases\n",
    "            self.weights -= learning_rate * dL_dw\n",
    "            self.biases -= learning_rate * dL_db\n",
    "            \n",
    "            return dL_di.reshape(self.last_input_shape)"
   ]
  },
  {
   "cell_type": "code",
   "execution_count": 161,
   "metadata": {},
   "outputs": [],
   "source": [
    "(x_train, y_train), (x_test, y_test) = mnist.load_data()\n",
    "\n",
    "convolution = Convolution2D(filter_shape=(3,3), num_filters=8, padding='same', stride=1)\n",
    "maxpool = MaxPool2D(pool_size=2)\n",
    "temp = convolution.conv2d(x_train[0]/255)\n",
    "temp = maxpool.pool(temp)\n",
    "tmp_size = temp.shape\n",
    "softmax = Softmax(tmp_size[0]*tmp_size[1]*tmp_size[2], 10, activation='softmax')\n",
    "\n",
    "output = convolution.conv2d(x_train[0]/255) \n",
    "output = maxpool.pool(output)\n",
    "# output = softmax.flatten(output)\n",
    "output = softmax.dense(output)\n",
    "\n",
    "# print(\"After flattening & dense: \", output.shape)"
   ]
  },
  {
   "cell_type": "code",
   "execution_count": 172,
   "metadata": {},
   "outputs": [],
   "source": [
    "(x_train, y_train), (x_test, y_test) = mnist.load_data()\n",
    "convolution = Convolution2D(filter_shape=(3,3), num_filters=8, padding='valid', stride=1)\n",
    "maxpool = MaxPool2D(pool_size=2)\n",
    "temp = convolution.conv2d(x_train[0]/255)\n",
    "temp = maxpool.pool(temp)\n",
    "tmp_shape = temp.shape\n",
    "softmax = Softmax(tmp_shape[0]*tmp_shape[1]*tmp_shape[2], 10, activation='softmax')"
   ]
  },
  {
   "cell_type": "code",
   "execution_count": 175,
   "metadata": {},
   "outputs": [],
   "source": [
    "def build_model(image):\n",
    "    # initialize the architecture\n",
    "    model = convolution.conv2d(image/255)\n",
    "    model = maxpool.pool(model)\n",
    "    model = softmax.dense(model)\n",
    "    \n",
    "    return model\n",
    "\n",
    "def train(img, label, learning_rate):\n",
    "\n",
    "    train_model = build_model(img)\n",
    "#     model = convolution.conv2d(img/255)\n",
    "#     model = maxpool.pool(model)\n",
    "#     model = softmax.dense(model)\n",
    "    # forward propagation step\n",
    "    output, loss, acc = softmax.forward_propagation(img, label, train_model, reg_lambda=1e-3)\n",
    "    \n",
    "    # initial gradient\n",
    "    grad = np.zeros(10) # 10 different classes\n",
    "    grad[label] = -1 / output[label]\n",
    "    \n",
    "    # back propagation\n",
    "    grad = softmax.back_propagation(grad, learning_rate, reg_lambda=1e-3)\n",
    "    grad = maxpool.back_propagation(grad)\n",
    "    grad = convolution.back_propagation(grad, learning_rate)\n",
    "    \n",
    "    return loss, acc\n"
   ]
  },
  {
   "cell_type": "code",
   "execution_count": 176,
   "metadata": {},
   "outputs": [
    {
     "name": "stdout",
     "output_type": "stream",
     "text": [
      "============= EPOCH 1 =============\n",
      "Step 100 : Loss=  1.6988826150822467 | Accuracy= 42 %\n",
      "Step 200 : Loss=  1.0434527990422775 | Accuracy= 73 %\n",
      "Step 300 : Loss=  0.7989083488260096 | Accuracy= 75 %\n",
      "Step 400 : Loss=  0.5927439915423942 | Accuracy= 80 %\n",
      "Step 500 : Loss=  0.6441426952769082 | Accuracy= 80 %\n",
      "Step 600 : Loss=  0.7626077190057743 | Accuracy= 76 %\n",
      "Step 700 : Loss=  0.7338089215443242 | Accuracy= 82 %\n",
      "Step 800 : Loss=  0.5096937622098161 | Accuracy= 84 %\n",
      "Step 900 : Loss=  0.65786390182228 | Accuracy= 81 %\n"
     ]
    }
   ],
   "source": [
    "NUM_EPOCHS = 3\n",
    "learning_rate = 0.001\n",
    "\n",
    "for epoch in range(NUM_EPOCHS):  \n",
    "    print(\"============= EPOCH\", epoch+1, \"=============\")\n",
    "    total_loss = 0\n",
    "    accuracy = 0\n",
    "\n",
    "    for i, (img, label) in enumerate(zip(x_train[:1000], y_train[:1000])): # let's train first 1000 data for simplicity \n",
    "        # build the complete model\n",
    "        if i % 100 == 0 and i != 0:\n",
    "            print(\"Step\", i, \": Loss= \", total_loss/100, \"| Accuracy=\", accuracy, \"%\")\n",
    "\n",
    "            total_loss = 0\n",
    "            accuracy = 0\n",
    "        loss, acc = train(img, label, learning_rate)\n",
    "        total_loss += loss\n",
    "        accuracy += acc"
   ]
  },
  {
   "cell_type": "code",
   "execution_count": 179,
   "metadata": {},
   "outputs": [],
   "source": [
    "# test the model\n",
    "def test(X_test, y_test):\n",
    "    loss = 0\n",
    "    accuracy = 0\n",
    "    for img, label in zip(X_test, y_test):\n",
    "        test_model = build_model(img)\n",
    "#         model = convolution.conv2d(img/255)\n",
    "#         model = maxpool.pool(model)\n",
    "#         model = softmax.dense(model)\n",
    "        _, l, acc = softmax.forward_propagation(img, label, test_model, reg_lambda=1e-3)\n",
    "        loss += l\n",
    "        accuracy += acc\n",
    "\n",
    "    print(\"Test Loss: \", loss/len(X_test))\n",
    "    print(\"Test Accuracy: \", accuracy/len(y_test))"
   ]
  },
  {
   "cell_type": "code",
   "execution_count": 180,
   "metadata": {},
   "outputs": [
    {
     "name": "stdout",
     "output_type": "stream",
     "text": [
      "Test Loss:  0.6509955960124785\n",
      "Test Accuracy:  0.774\n"
     ]
    }
   ],
   "source": [
    "test(x_test[:1000], y_test[:1000])"
   ]
  },
  {
   "cell_type": "markdown",
   "metadata": {},
   "source": [
    "Now it also works with padding and stride!"
   ]
  },
  {
   "cell_type": "markdown",
   "metadata": {},
   "source": [
    "It's much closer to the accuracy from keras' model, because now we use the regularization term"
   ]
  },
  {
   "cell_type": "markdown",
   "metadata": {},
   "source": [
    "## Part 5 - Back Propagation (Softmax)"
   ]
  },
  {
   "cell_type": "code",
   "execution_count": 73,
   "metadata": {},
   "outputs": [],
   "source": [
    "class Softmax:\n",
    "    # initialize random weights and zero biases\n",
    "    def __init__(self, num_features, num_nodes):\n",
    "        self.weights = np.random.randn(num_features, num_nodes) / num_features\n",
    "        self.biases = np.zeros(num_nodes)\n",
    "#         print(self.weights.shape)\n",
    "#         print(self.biases.shape)\n",
    "    \n",
    "    # move flatten inside the dense function\n",
    "#     def flatten(self, inputs):\n",
    "#         self.inputs = inputs.flatten()\n",
    "#         print(self.inputs.shape)\n",
    "    \n",
    "    # connects flattened layer with a fully connected layer (dense)\n",
    "    def dense(self, inputs):\n",
    "        self.last_input_shape = inputs.shape # cache the last input shape BEFORE FLATTENING\n",
    "        \n",
    "        inputs = inputs.flatten()\n",
    "        self.last_input = inputs # cache the last input shape AFTER FLATTENING\n",
    "        input_features, nodes = self.weights.shape\n",
    "        \n",
    "        z = np.dot(inputs, self.weights) + self.biases # z = W . X + b\n",
    "        self.z = z # cache z for backpropagation\n",
    "        a = np.exp(z) # a = g(z)\n",
    "        \n",
    "        return a / np.sum(a, axis=0) # e^a / sum(a)\n",
    "    \n",
    "    def back_propagation(self, dL, learning_rate):\n",
    "        for i, grad in enumerate(dL):\n",
    "            if grad == 0: continue; # ignores 0 gradient\n",
    "            \n",
    "            exp_total = np.exp(self.z) # total of e^\n",
    "            exp_sum = np.sum(exp_total) # sum of e^\n",
    "            \n",
    "            # gradients of z against totals\n",
    "            dz = -exp_total[i] * exp_total / (exp_sum ** 2)\n",
    "            dz[i] = exp_total[i] * (exp_sum - exp_total[i]) / (exp_sum ** 2)\n",
    "            \n",
    "            # gradients of totals against weights, biases, inputs\n",
    "            dt_dw = self.last_input\n",
    "            dt_db = 1\n",
    "            dt_di = self.weights\n",
    "            \n",
    "            # gradients of loss against totals\n",
    "            dL_dt = grad * dz\n",
    "            \n",
    "            # gradients of loss against weights, biases, and inputs\n",
    "            dL_dw = np.dot(dt_dw[np.newaxis].T, dL_dt[np.newaxis])\n",
    "            dL_db = dL_dt * dt_db\n",
    "            dL_di = np.dot(dt_di, dL_dt)\n",
    "            \n",
    "            # update weights and biases\n",
    "            self.weights -= learning_rate * dL_dw\n",
    "            self.biases -= learning_rate * dL_db\n",
    "            \n",
    "            return dL_di.reshape(self.last_input_shape)"
   ]
  },
  {
   "cell_type": "markdown",
   "metadata": {},
   "source": [
    "Now Let's try the backpropagation"
   ]
  },
  {
   "cell_type": "code",
   "execution_count": 130,
   "metadata": {},
   "outputs": [],
   "source": [
    "(x_train, y_train), (x_test, y_test) = mnist.load_data()"
   ]
  },
  {
   "cell_type": "code",
   "execution_count": 131,
   "metadata": {},
   "outputs": [
    {
     "ename": "TypeError",
     "evalue": "__init__() missing 1 required positional argument: 'pool_size'",
     "output_type": "error",
     "traceback": [
      "\u001b[1;31m---------------------------------------------------------------------------\u001b[0m",
      "\u001b[1;31mTypeError\u001b[0m                                 Traceback (most recent call last)",
      "\u001b[1;32m<ipython-input-131-91039914be17>\u001b[0m in \u001b[0;36m<module>\u001b[1;34m()\u001b[0m\n\u001b[0;32m      1\u001b[0m \u001b[0mconvolution\u001b[0m \u001b[1;33m=\u001b[0m \u001b[0mConvolution2D\u001b[0m\u001b[1;33m(\u001b[0m\u001b[0mfilter_shape\u001b[0m\u001b[1;33m=\u001b[0m\u001b[1;33m(\u001b[0m\u001b[1;36m3\u001b[0m\u001b[1;33m,\u001b[0m\u001b[1;36m3\u001b[0m\u001b[1;33m)\u001b[0m\u001b[1;33m,\u001b[0m \u001b[0mnum_filters\u001b[0m\u001b[1;33m=\u001b[0m\u001b[1;36m8\u001b[0m\u001b[1;33m,\u001b[0m \u001b[0mpadding\u001b[0m\u001b[1;33m=\u001b[0m\u001b[1;34m'same'\u001b[0m\u001b[1;33m,\u001b[0m \u001b[0mstride\u001b[0m\u001b[1;33m=\u001b[0m\u001b[1;36m1\u001b[0m\u001b[1;33m)\u001b[0m\u001b[1;33m\u001b[0m\u001b[0m\n\u001b[1;32m----> 2\u001b[1;33m \u001b[0mmaxpool\u001b[0m \u001b[1;33m=\u001b[0m \u001b[0mMaxPool2D\u001b[0m\u001b[1;33m(\u001b[0m\u001b[1;33m)\u001b[0m\u001b[1;33m\u001b[0m\u001b[0m\n\u001b[0m\u001b[0;32m      3\u001b[0m \u001b[0msoftmax\u001b[0m \u001b[1;33m=\u001b[0m \u001b[0mSoftmax\u001b[0m\u001b[1;33m(\u001b[0m\u001b[1;36m13\u001b[0m\u001b[1;33m*\u001b[0m\u001b[1;36m13\u001b[0m\u001b[1;33m*\u001b[0m\u001b[1;36m8\u001b[0m\u001b[1;33m,\u001b[0m \u001b[1;36m10\u001b[0m\u001b[1;33m)\u001b[0m\u001b[1;33m\u001b[0m\u001b[0m\n",
      "\u001b[1;31mTypeError\u001b[0m: __init__() missing 1 required positional argument: 'pool_size'"
     ]
    }
   ],
   "source": [
    "convolution = Convolution2D(filter_shape=(3,3), num_filters=8)\n",
    "maxpool = MaxPool2D()\n",
    "softmax = Softmax(13*13*8, 10)"
   ]
  },
  {
   "cell_type": "code",
   "execution_count": 76,
   "metadata": {},
   "outputs": [],
   "source": [
    "def forward_propagation(img, label):\n",
    "    output = convolution.conv2d(img/255)\n",
    "    output = maxpool.pool(output)\n",
    "#     output = softmax.flatten(output)\n",
    "    output = softmax.dense(output)\n",
    "    \n",
    "    loss = -np.log(output[label]) # -log(x) --> softmax loss function\n",
    "    acc = 1 if np.argmax(output) == label else 0 # increase the accuracy if the predicted label = actual label\n",
    "    \n",
    "    return output, loss, acc"
   ]
  },
  {
   "cell_type": "code",
   "execution_count": 49,
   "metadata": {},
   "outputs": [],
   "source": [
    "def train(img, label, learning_rate):\n",
    "    # forward propagation\n",
    "    output, loss, acc = forward_propagation(img, label)\n",
    "    \n",
    "    # initial gradient\n",
    "    grad = np.zeros(10) # 10 different classes\n",
    "    grad[label] = -1 / output[label]\n",
    "    \n",
    "    # back propagation\n",
    "    grad = softmax.back_propagation(grad, learning_rate)\n",
    "    \n",
    "    return loss, acc"
   ]
  },
  {
   "cell_type": "code",
   "execution_count": 50,
   "metadata": {},
   "outputs": [
    {
     "name": "stdout",
     "output_type": "stream",
     "text": [
      "Epoch #0: Loss=0.000 | Accuracy=0.00\n",
      "Epoch #100: Loss=1.474 | Accuracy=51.00\n",
      "Epoch #200: Loss=0.839 | Accuracy=74.00\n",
      "Epoch #300: Loss=0.735 | Accuracy=78.00\n",
      "Epoch #400: Loss=0.503 | Accuracy=86.00\n",
      "Epoch #500: Loss=0.604 | Accuracy=82.00\n",
      "Epoch #600: Loss=0.723 | Accuracy=77.00\n",
      "Epoch #700: Loss=0.685 | Accuracy=83.00\n",
      "Epoch #800: Loss=0.434 | Accuracy=87.00\n",
      "Epoch #900: Loss=0.604 | Accuracy=81.00\n"
     ]
    }
   ],
   "source": [
    "l = 0\n",
    "acc = 0\n",
    "\n",
    "for i, (img, label) in enumerate(zip(x_train[:1000], y_train[:1000])):\n",
    "    if i % 100 == 0:\n",
    "        print(\"Epoch #%d: Loss=%.3f | Accuracy=%.2f\" % (i, l/100, acc))\n",
    "        l = 0\n",
    "        acc = 0\n",
    "    loss, accuracy = train(img, label, learning_rate=0.005)\n",
    "    l += loss\n",
    "    acc += accuracy"
   ]
  },
  {
   "cell_type": "markdown",
   "metadata": {},
   "source": [
    "WOHOOOO IT'S WORKINGGGG"
   ]
  },
  {
   "cell_type": "markdown",
   "metadata": {},
   "source": [
    "## Part 6 - Back Propagation (MaxPool & Conv2D)"
   ]
  },
  {
   "cell_type": "code",
   "execution_count": 77,
   "metadata": {},
   "outputs": [],
   "source": [
    "class MaxPool2D:\n",
    "    def iterate(self, img):\n",
    "        height, width, _ = img.shape\n",
    "        h = height//2\n",
    "        w = width//2\n",
    "        \n",
    "        for i in range(h):\n",
    "            for j in range(w):\n",
    "                new_region = img[(i*2):(i*2+2), (j*2):(j*2+2)]\n",
    "                yield new_region, i, j\n",
    "    \n",
    "    # 2x2 maxpool --> nxn maxpool if possible\n",
    "    def pool(self, inputs):\n",
    "        self.last_input = inputs # cache last input for backpropagation\n",
    "        \n",
    "        height, width, num_filters = inputs.shape\n",
    "        output = np.zeros((height//2, width//2, num_filters))\n",
    "        \n",
    "        for img_region, i, j in self.iterate(inputs):\n",
    "            output[i, j] = np.max(img_region, axis=(0,1))\n",
    "        \n",
    "        return output\n",
    "    \n",
    "    def back_propagation(self, dL_output):\n",
    "        dL_input = np.zeros((self.last_input.shape))\n",
    "        \n",
    "        for img_region, i, j in self.iterate(self.last_input):\n",
    "            height, width, num_filters = img_region.shape\n",
    "            # find the max value for each region\n",
    "            maxi = np.max(img_region, axis=(0,1))\n",
    "            \n",
    "            for k in range(height):\n",
    "                for l in range(width):\n",
    "                    for m in range(num_filters):\n",
    "                        if img_region[k, l, m] == maxi[m]: # if the max values match, copy the gradient\n",
    "                            dL_input[i*2+k, j*2+l, m] = dL_output[i, j, m]\n",
    "        return dL_input"
   ]
  },
  {
   "cell_type": "code",
   "execution_count": 78,
   "metadata": {},
   "outputs": [],
   "source": [
    "class Convolution2D:\n",
    "    def __init__(self, filter_shape, num_filters):\n",
    "        self.filter_shape = filter_shape\n",
    "        self.num_filters = num_filters\n",
    "        self.filters = np.random.randn(num_filters, filter_shape[0], filter_shape[0]) # random initialization\n",
    "        \n",
    "    def iterate(self, img, filter_shape):\n",
    "        height, width = img.shape\n",
    "        \n",
    "        for i in range(height - 2):\n",
    "            for j in range(width - 2):\n",
    "                output = img[i:(i+filter_shape[0]), j:(j+filter_shape[0])]\n",
    "                yield output, i, j # 'yield' keyword will return any values and continue from the last value returned\n",
    "    \n",
    "    def conv2d(self, inputs):\n",
    "        self.last_input = inputs # cache the last input for backpropagation\n",
    "        \n",
    "        height, width = inputs.shape\n",
    "        output = np.zeros((height-2, width-2, self.num_filters)) \n",
    "        \n",
    "        for region, i, j in self.iterate(inputs, self.filter_shape):\n",
    "            output[i, j] = np.sum(region * self.filters, axis=(1,2))\n",
    "#             print(region * self.filters)\n",
    "        \n",
    "        return output\n",
    "    \n",
    "    def back_propagation(self, dL, learning_rate):\n",
    "        dL_filters = np.zeros(self.filters.shape)\n",
    "        \n",
    "        for img_region, i, j in self.iterate(self.last_input, self.filter_shape):\n",
    "            for k in range(self.num_filters):\n",
    "                dL_filters[k] += dL[i, j, k] * img_region\n",
    "        \n",
    "        # don't forget to update the filters\n",
    "        self.filters -= learning_rate * dL_filters\n",
    "        \n",
    "        return None"
   ]
  },
  {
   "cell_type": "markdown",
   "metadata": {},
   "source": [
    "## Part 7 - Putting it altogether"
   ]
  },
  {
   "cell_type": "markdown",
   "metadata": {},
   "source": [
    "Now let's put all together into 1 model and train it"
   ]
  },
  {
   "cell_type": "code",
   "execution_count": 79,
   "metadata": {},
   "outputs": [],
   "source": [
    "(x_train, y_train), (x_test, y_test) = mnist.load_data()"
   ]
  },
  {
   "cell_type": "code",
   "execution_count": 80,
   "metadata": {},
   "outputs": [],
   "source": [
    "conv = Convolution2D(num_filters=8, filter_shape=(3,3))\n",
    "pooling = MaxPool2D()\n",
    "softmax = Softmax(13*13*8, 10)"
   ]
  },
  {
   "cell_type": "code",
   "execution_count": 81,
   "metadata": {},
   "outputs": [],
   "source": [
    "def forward_propagation(img, label):\n",
    "    # define the model\n",
    "    model = conv.conv2d(img/255)\n",
    "    model = pooling.pool(model)\n",
    "    model = softmax.dense(model)\n",
    "    \n",
    "    # calculate loss\n",
    "    loss = -np.log(model[label])\n",
    "    acc = 1 if np.argmax(model) == label else 0\n",
    "    \n",
    "    return model, loss, acc"
   ]
  },
  {
   "cell_type": "code",
   "execution_count": 82,
   "metadata": {},
   "outputs": [],
   "source": [
    "def train(img, label, learning_rate=0.005):\n",
    "    # forward propagation\n",
    "    output, loss, acc = forward_propagation(img, label) # test with 1000 images\n",
    "    # initial gradient\n",
    "    grad = np.zeros(10)\n",
    "    grad[label] = -1 / output[label]\n",
    "    # back propagation\n",
    "    grad = softmax.back_propagation(grad, learning_rate)\n",
    "#     print(grad.shape)\n",
    "    grad = pooling.back_propagation(grad)\n",
    "    grad = conv.back_propagation(grad, learning_rate)\n",
    "    \n",
    "    return loss, acc"
   ]
  },
  {
   "cell_type": "code",
   "execution_count": 83,
   "metadata": {},
   "outputs": [
    {
     "name": "stdout",
     "output_type": "stream",
     "text": [
      "EPOCH # 0\n",
      "Step #0: Loss=0.000 | Accuracy=0\n",
      "Step #100: Loss=1.599 | Accuracy=44\n",
      "Step #200: Loss=0.930 | Accuracy=71\n",
      "Step #300: Loss=0.866 | Accuracy=75\n",
      "Step #400: Loss=0.524 | Accuracy=83\n",
      "Step #500: Loss=0.639 | Accuracy=78\n",
      "Step #600: Loss=0.813 | Accuracy=77\n",
      "Step #700: Loss=0.825 | Accuracy=82\n",
      "Step #800: Loss=0.520 | Accuracy=82\n",
      "Step #900: Loss=0.726 | Accuracy=80\n",
      "EPOCH # 1\n",
      "Step #0: Loss=0.000 | Accuracy=0\n",
      "Step #100: Loss=0.294 | Accuracy=92\n",
      "Step #200: Loss=0.413 | Accuracy=88\n",
      "Step #300: Loss=0.366 | Accuracy=87\n",
      "Step #400: Loss=0.186 | Accuracy=94\n"
     ]
    },
    {
     "ename": "KeyboardInterrupt",
     "evalue": "",
     "output_type": "error",
     "traceback": [
      "\u001b[1;31m---------------------------------------------------------------------------\u001b[0m",
      "\u001b[1;31mKeyboardInterrupt\u001b[0m                         Traceback (most recent call last)",
      "\u001b[1;32m<ipython-input-83-3d4d13b5eefb>\u001b[0m in \u001b[0;36m<module>\u001b[1;34m()\u001b[0m\n\u001b[0;32m     11\u001b[0m             \u001b[0maccuracy\u001b[0m \u001b[1;33m=\u001b[0m \u001b[1;36m0\u001b[0m\u001b[1;33m\u001b[0m\u001b[0m\n\u001b[0;32m     12\u001b[0m \u001b[1;33m\u001b[0m\u001b[0m\n\u001b[1;32m---> 13\u001b[1;33m         \u001b[0ml\u001b[0m\u001b[1;33m,\u001b[0m \u001b[0macc\u001b[0m \u001b[1;33m=\u001b[0m \u001b[0mtrain\u001b[0m\u001b[1;33m(\u001b[0m\u001b[0mimg\u001b[0m\u001b[1;33m,\u001b[0m \u001b[0mlabel\u001b[0m\u001b[1;33m)\u001b[0m\u001b[1;33m\u001b[0m\u001b[0m\n\u001b[0m\u001b[0;32m     14\u001b[0m         \u001b[0mloss\u001b[0m \u001b[1;33m+=\u001b[0m \u001b[0ml\u001b[0m\u001b[1;33m\u001b[0m\u001b[0m\n\u001b[0;32m     15\u001b[0m         \u001b[0maccuracy\u001b[0m \u001b[1;33m+=\u001b[0m \u001b[0macc\u001b[0m\u001b[1;33m\u001b[0m\u001b[0m\n",
      "\u001b[1;32m<ipython-input-82-9ea7ac74a427>\u001b[0m in \u001b[0;36mtrain\u001b[1;34m(img, label, learning_rate)\u001b[0m\n\u001b[0;32m      1\u001b[0m \u001b[1;32mdef\u001b[0m \u001b[0mtrain\u001b[0m\u001b[1;33m(\u001b[0m\u001b[0mimg\u001b[0m\u001b[1;33m,\u001b[0m \u001b[0mlabel\u001b[0m\u001b[1;33m,\u001b[0m \u001b[0mlearning_rate\u001b[0m\u001b[1;33m=\u001b[0m\u001b[1;36m0.005\u001b[0m\u001b[1;33m)\u001b[0m\u001b[1;33m:\u001b[0m\u001b[1;33m\u001b[0m\u001b[0m\n\u001b[0;32m      2\u001b[0m     \u001b[1;31m# forward propagation\u001b[0m\u001b[1;33m\u001b[0m\u001b[1;33m\u001b[0m\u001b[0m\n\u001b[1;32m----> 3\u001b[1;33m     \u001b[0moutput\u001b[0m\u001b[1;33m,\u001b[0m \u001b[0mloss\u001b[0m\u001b[1;33m,\u001b[0m \u001b[0macc\u001b[0m \u001b[1;33m=\u001b[0m \u001b[0mforward_propagation\u001b[0m\u001b[1;33m(\u001b[0m\u001b[0mimg\u001b[0m\u001b[1;33m,\u001b[0m \u001b[0mlabel\u001b[0m\u001b[1;33m)\u001b[0m \u001b[1;31m# test with 1000 images\u001b[0m\u001b[1;33m\u001b[0m\u001b[0m\n\u001b[0m\u001b[0;32m      4\u001b[0m     \u001b[1;31m# initial gradient\u001b[0m\u001b[1;33m\u001b[0m\u001b[1;33m\u001b[0m\u001b[0m\n\u001b[0;32m      5\u001b[0m     \u001b[0mgrad\u001b[0m \u001b[1;33m=\u001b[0m \u001b[0mnp\u001b[0m\u001b[1;33m.\u001b[0m\u001b[0mzeros\u001b[0m\u001b[1;33m(\u001b[0m\u001b[1;36m10\u001b[0m\u001b[1;33m)\u001b[0m\u001b[1;33m\u001b[0m\u001b[0m\n",
      "\u001b[1;32m<ipython-input-81-ad40a7389c74>\u001b[0m in \u001b[0;36mforward_propagation\u001b[1;34m(img, label)\u001b[0m\n\u001b[0;32m      2\u001b[0m     \u001b[1;31m# define the model\u001b[0m\u001b[1;33m\u001b[0m\u001b[1;33m\u001b[0m\u001b[0m\n\u001b[0;32m      3\u001b[0m     \u001b[0mmodel\u001b[0m \u001b[1;33m=\u001b[0m \u001b[0mconv\u001b[0m\u001b[1;33m.\u001b[0m\u001b[0mconv2d\u001b[0m\u001b[1;33m(\u001b[0m\u001b[0mimg\u001b[0m\u001b[1;33m/\u001b[0m\u001b[1;36m255\u001b[0m\u001b[1;33m)\u001b[0m\u001b[1;33m\u001b[0m\u001b[0m\n\u001b[1;32m----> 4\u001b[1;33m     \u001b[0mmodel\u001b[0m \u001b[1;33m=\u001b[0m \u001b[0mpooling\u001b[0m\u001b[1;33m.\u001b[0m\u001b[0mpool\u001b[0m\u001b[1;33m(\u001b[0m\u001b[0mmodel\u001b[0m\u001b[1;33m)\u001b[0m\u001b[1;33m\u001b[0m\u001b[0m\n\u001b[0m\u001b[0;32m      5\u001b[0m     \u001b[0mmodel\u001b[0m \u001b[1;33m=\u001b[0m \u001b[0msoftmax\u001b[0m\u001b[1;33m.\u001b[0m\u001b[0mdense\u001b[0m\u001b[1;33m(\u001b[0m\u001b[0mmodel\u001b[0m\u001b[1;33m)\u001b[0m\u001b[1;33m\u001b[0m\u001b[0m\n\u001b[0;32m      6\u001b[0m \u001b[1;33m\u001b[0m\u001b[0m\n",
      "\u001b[1;32m<ipython-input-77-a7d95b894679>\u001b[0m in \u001b[0;36mpool\u001b[1;34m(self, inputs)\u001b[0m\n\u001b[0;32m     18\u001b[0m \u001b[1;33m\u001b[0m\u001b[0m\n\u001b[0;32m     19\u001b[0m         \u001b[1;32mfor\u001b[0m \u001b[0mimg_region\u001b[0m\u001b[1;33m,\u001b[0m \u001b[0mi\u001b[0m\u001b[1;33m,\u001b[0m \u001b[0mj\u001b[0m \u001b[1;32min\u001b[0m \u001b[0mself\u001b[0m\u001b[1;33m.\u001b[0m\u001b[0miterate\u001b[0m\u001b[1;33m(\u001b[0m\u001b[0minputs\u001b[0m\u001b[1;33m)\u001b[0m\u001b[1;33m:\u001b[0m\u001b[1;33m\u001b[0m\u001b[0m\n\u001b[1;32m---> 20\u001b[1;33m             \u001b[0moutput\u001b[0m\u001b[1;33m[\u001b[0m\u001b[0mi\u001b[0m\u001b[1;33m,\u001b[0m \u001b[0mj\u001b[0m\u001b[1;33m]\u001b[0m \u001b[1;33m=\u001b[0m \u001b[0mnp\u001b[0m\u001b[1;33m.\u001b[0m\u001b[0mmax\u001b[0m\u001b[1;33m(\u001b[0m\u001b[0mimg_region\u001b[0m\u001b[1;33m,\u001b[0m \u001b[0maxis\u001b[0m\u001b[1;33m=\u001b[0m\u001b[1;33m(\u001b[0m\u001b[1;36m0\u001b[0m\u001b[1;33m,\u001b[0m\u001b[1;36m1\u001b[0m\u001b[1;33m)\u001b[0m\u001b[1;33m)\u001b[0m\u001b[1;33m\u001b[0m\u001b[0m\n\u001b[0m\u001b[0;32m     21\u001b[0m \u001b[1;33m\u001b[0m\u001b[0m\n\u001b[0;32m     22\u001b[0m         \u001b[1;32mreturn\u001b[0m \u001b[0moutput\u001b[0m\u001b[1;33m\u001b[0m\u001b[0m\n",
      "\u001b[1;31mKeyboardInterrupt\u001b[0m: "
     ]
    }
   ],
   "source": [
    "# train the model\n",
    "for epoch in range(3):\n",
    "    print(\"EPOCH #\", epoch)\n",
    "    \n",
    "    loss = 0\n",
    "    accuracy = 0\n",
    "    for i, (img, label) in enumerate(zip(x_train[:1000], y_train[:1000])):\n",
    "        if i % 100 == 0:\n",
    "            print(\"Step #%d: Loss=%.3f | Accuracy=%d\" % (i, loss/100, accuracy))\n",
    "            loss = 0\n",
    "            accuracy = 0\n",
    "            \n",
    "        l, acc = train(img, label)\n",
    "        loss += l\n",
    "        accuracy += acc"
   ]
  },
  {
   "cell_type": "code",
   "execution_count": 58,
   "metadata": {},
   "outputs": [
    {
     "name": "stdout",
     "output_type": "stream",
     "text": [
      "Test Loss:  0.641302939500671\n",
      "Test Accuracy:  0.804\n"
     ]
    }
   ],
   "source": [
    "# test the model\n",
    "loss = 0\n",
    "accuracy = 0\n",
    "for img, label in zip(x_test[:1000], y_test[:1000]):\n",
    "    _, l, acc = forward_propagation(img, label)\n",
    "    loss += l\n",
    "    accuracy += acc\n",
    "            \n",
    "print(\"Test Loss: \", loss/len(x_test[:1000]))\n",
    "print(\"Test Accuracy: \", accuracy/len(x_test[:1000]))"
   ]
  },
  {
   "cell_type": "markdown",
   "metadata": {},
   "source": [
    "## Keras Model"
   ]
  },
  {
   "cell_type": "markdown",
   "metadata": {},
   "source": [
    "Now let's compare our scratch model with keras built-in library model"
   ]
  },
  {
   "cell_type": "code",
   "execution_count": 13,
   "metadata": {},
   "outputs": [
    {
     "name": "stderr",
     "output_type": "stream",
     "text": [
      "Using TensorFlow backend.\n"
     ]
    }
   ],
   "source": [
    "from keras.models import Sequential\n",
    "from keras.layers import Conv2D, MaxPool2D, Flatten, Dense\n",
    "from keras.utils import to_categorical"
   ]
  },
  {
   "cell_type": "code",
   "execution_count": 45,
   "metadata": {},
   "outputs": [],
   "source": [
    "(x_train, y_train), (x_test, y_test) = mnist.load_data()"
   ]
  },
  {
   "cell_type": "code",
   "execution_count": 46,
   "metadata": {},
   "outputs": [],
   "source": [
    "# normalization\n",
    "x_train = x_train/255\n",
    "x_test = x_test/255\n",
    "\n",
    "# reshape\n",
    "x_train = np.reshape(x_train, ((60000,28,28,1)))\n",
    "x_test = np.reshape(x_test, (10000,28, 28,1))\n",
    "\n",
    "# one-hot encoding for label y\n",
    "y_train = to_categorical(y_train, 10)\n",
    "y_test = to_categorical(y_test, 10)"
   ]
  },
  {
   "cell_type": "code",
   "execution_count": 47,
   "metadata": {},
   "outputs": [
    {
     "data": {
      "text/plain": [
       "(10000, 10)"
      ]
     },
     "execution_count": 47,
     "metadata": {},
     "output_type": "execute_result"
    }
   ],
   "source": [
    "y_test.shape"
   ]
  },
  {
   "cell_type": "code",
   "execution_count": 48,
   "metadata": {},
   "outputs": [
    {
     "name": "stdout",
     "output_type": "stream",
     "text": [
      "_________________________________________________________________\n",
      "Layer (type)                 Output Shape              Param #   \n",
      "=================================================================\n",
      "conv2d_5 (Conv2D)            (None, 28, 28, 8)         80        \n",
      "_________________________________________________________________\n",
      "max_pooling2d_5 (MaxPooling2 (None, 14, 14, 8)         0         \n",
      "_________________________________________________________________\n",
      "flatten_5 (Flatten)          (None, 1568)              0         \n",
      "_________________________________________________________________\n",
      "dense_5 (Dense)              (None, 10)                15690     \n",
      "=================================================================\n",
      "Total params: 15,770\n",
      "Trainable params: 15,770\n",
      "Non-trainable params: 0\n",
      "_________________________________________________________________\n"
     ]
    }
   ],
   "source": [
    "# create the model with the same hyperparameters as the scratch model\n",
    "keras_model = Sequential()\n",
    "keras_model.add(Conv2D(filters=8, kernel_size=(3,3), padding='same', activation='relu', input_shape=(28,28,1)))\n",
    "keras_model.add(MaxPool2D(pool_size=2))\n",
    "\n",
    "keras_model.add(Flatten())\n",
    "keras_model.add(Dense(10, activation='softmax'))\n",
    "\n",
    "keras_model.compile(optimizer='adam', loss='categorical_crossentropy', metrics=['accuracy']) # optimizer is not yet implemented\n",
    "keras_model.summary()"
   ]
  },
  {
   "cell_type": "code",
   "execution_count": 49,
   "metadata": {},
   "outputs": [
    {
     "name": "stdout",
     "output_type": "stream",
     "text": [
      "Train on 669 samples, validate on 331 samples\n",
      "Epoch 1/3\n",
      "669/669 [==============================] - 6s 8ms/step - loss: 0.9652 - acc: 0.7175 - val_loss: 0.6049 - val_acc: 0.8066\n",
      "Epoch 2/3\n",
      "669/669 [==============================] - 5s 7ms/step - loss: 0.3690 - acc: 0.8804 - val_loss: 0.5349 - val_acc: 0.8671\n",
      "Epoch 3/3\n",
      "669/669 [==============================] - 5s 7ms/step - loss: 0.2404 - acc: 0.9268 - val_loss: 0.5595 - val_acc: 0.8308\n"
     ]
    }
   ],
   "source": [
    "history = keras_model.fit(x_train[:1000], y_train[:1000], validation_split=0.33, batch_size=1, epochs=3)"
   ]
  },
  {
   "cell_type": "markdown",
   "metadata": {},
   "source": [
    "Great!! it is similar with our scratch model achieving 94% accuracy! :)"
   ]
  },
  {
   "cell_type": "code",
   "execution_count": 25,
   "metadata": {},
   "outputs": [
    {
     "name": "stdout",
     "output_type": "stream",
     "text": [
      "1000/1000 [==============================] - 0s 213us/step\n"
     ]
    },
    {
     "data": {
      "text/plain": [
       "[0.49879764223098755, 0.84]"
      ]
     },
     "execution_count": 25,
     "metadata": {},
     "output_type": "execute_result"
    }
   ],
   "source": [
    "keras_model.evaluate(x_test[:1000], y_test[:1000])"
   ]
  },
  {
   "cell_type": "markdown",
   "metadata": {},
   "source": [
    "However, in the test set, keras outperforms our scratch model with 5-10% better accuracy. This is maybe due to the adam optimizer. Still, not bad for a scratch model though! :)"
   ]
  },
  {
   "cell_type": "markdown",
   "metadata": {},
   "source": [
    "Now let's analyse the result from the model"
   ]
  },
  {
   "cell_type": "code",
   "execution_count": 41,
   "metadata": {},
   "outputs": [],
   "source": [
    "def show_loss_graph(history):\n",
    "    plt.plot(history.history['loss'])\n",
    "    plt.plot(history.history['val_loss'])\n",
    "    plt.title('Model Loss vs Validation Loss')\n",
    "    plt.ylabel('Loss')\n",
    "    plt.xlabel('Epoch')\n",
    "    plt.legend(['train', 'validation'], loc='upper right')\n",
    "    plt.show()"
   ]
  },
  {
   "cell_type": "code",
   "execution_count": 42,
   "metadata": {},
   "outputs": [],
   "source": [
    "def show_acc_graph(history):\n",
    "    plt.plot(history.history['acc'])\n",
    "    plt.plot(history.history['val_acc'])\n",
    "    plt.title('Training Accuracy vs validation Accuracy')\n",
    "    plt.ylabel('Accuracy')\n",
    "    plt.xlabel('Epoch')\n",
    "    plt.legend(['train', 'validation'], loc='upper right')\n",
    "    plt.show()"
   ]
  },
  {
   "cell_type": "code",
   "execution_count": 43,
   "metadata": {},
   "outputs": [
    {
     "name": "stdout",
     "output_type": "stream",
     "text": [
      "dict_keys(['val_loss', 'val_acc', 'loss', 'acc'])\n"
     ]
    }
   ],
   "source": [
    "# shows key metrics from the fit model\n",
    "print(history.history.keys())"
   ]
  },
  {
   "cell_type": "code",
   "execution_count": 50,
   "metadata": {},
   "outputs": [
    {
     "data": {
      "image/png": "[encoded data removed]",
      "text/plain": [
       "<Figure size 432x288 with 1 Axes>"
      ]
     },
     "metadata": {
      "needs_background": "light"
     },
     "output_type": "display_data"
    }
   ],
   "source": [
    "show_loss_graph(history)"
   ]
  },
  {
   "cell_type": "code",
   "execution_count": 51,
   "metadata": {},
   "outputs": [
    {
     "data": {
      "image/png": "[encoded data removed]",
      "text/plain": [
       "<Figure size 432x288 with 1 Axes>"
      ]
     },
     "metadata": {
      "needs_background": "light"
     },
     "output_type": "display_data"
    }
   ],
   "source": [
    "show_acc_graph(history)"
   ]
  },
  {
   "cell_type": "markdown",
   "metadata": {},
   "source": [
    "## Mini-batch Gradient Descent vs SGD vs Batch Gradient Descent"
   ]
  },
  {
   "cell_type": "markdown",
   "metadata": {},
   "source": [
    "### Mini-Batch"
   ]
  },
  {
   "cell_type": "code",
   "execution_count": 62,
   "metadata": {},
   "outputs": [
    {
     "name": "stdout",
     "output_type": "stream",
     "text": [
      "_________________________________________________________________\n",
      "Layer (type)                 Output Shape              Param #   \n",
      "=================================================================\n",
      "conv2d_8 (Conv2D)            (None, 28, 28, 8)         80        \n",
      "_________________________________________________________________\n",
      "max_pooling2d_8 (MaxPooling2 (None, 14, 14, 8)         0         \n",
      "_________________________________________________________________\n",
      "flatten_8 (Flatten)          (None, 1568)              0         \n",
      "_________________________________________________________________\n",
      "dense_8 (Dense)              (None, 10)                15690     \n",
      "=================================================================\n",
      "Total params: 15,770\n",
      "Trainable params: 15,770\n",
      "Non-trainable params: 0\n",
      "_________________________________________________________________\n"
     ]
    }
   ],
   "source": [
    "# create the model with the same hyperparameters as the scratch model\n",
    "batch_model = Sequential()\n",
    "batch_model.add(Conv2D(filters=8, kernel_size=(3,3), padding='same', activation='relu', input_shape=(28,28,1)))\n",
    "batch_model.add(MaxPool2D(pool_size=2))\n",
    "\n",
    "batch_model.add(Flatten())\n",
    "batch_model.add(Dense(10, activation='softmax'))\n",
    "\n",
    "batch_model.compile(optimizer='adam', loss='categorical_crossentropy', metrics=['accuracy']) # optimizer is not yet implemented\n",
    "batch_model.summary()"
   ]
  },
  {
   "cell_type": "code",
   "execution_count": 63,
   "metadata": {},
   "outputs": [
    {
     "name": "stdout",
     "output_type": "stream",
     "text": [
      "Train on 800 samples, validate on 200 samples\n",
      "Epoch 1/10\n",
      "800/800 [==============================] - 1s 2ms/step - loss: 2.0290 - acc: 0.4012 - val_loss: 1.7092 - val_acc: 0.7550\n",
      "Epoch 2/10\n",
      "800/800 [==============================] - 1s 775us/step - loss: 1.3665 - acc: 0.8113 - val_loss: 1.0961 - val_acc: 0.8350\n",
      "Epoch 3/10\n",
      "800/800 [==============================] - 1s 845us/step - loss: 0.8168 - acc: 0.8325 - val_loss: 0.7273 - val_acc: 0.8450\n",
      "Epoch 4/10\n",
      "800/800 [==============================] - 1s 644us/step - loss: 0.5643 - acc: 0.8600 - val_loss: 0.5950 - val_acc: 0.8500\n",
      "Epoch 5/10\n",
      "800/800 [==============================] - 1s 669us/step - loss: 0.4421 - acc: 0.8800 - val_loss: 0.5410 - val_acc: 0.8500\n",
      "Epoch 6/10\n",
      "800/800 [==============================] - 0s 609us/step - loss: 0.3723 - acc: 0.9025 - val_loss: 0.5172 - val_acc: 0.8600\n",
      "Epoch 7/10\n",
      "800/800 [==============================] - 0s 613us/step - loss: 0.3201 - acc: 0.9138 - val_loss: 0.4770 - val_acc: 0.8600\n",
      "Epoch 8/10\n",
      "800/800 [==============================] - 0s 585us/step - loss: 0.2875 - acc: 0.9275 - val_loss: 0.4650 - val_acc: 0.8800\n",
      "Epoch 9/10\n",
      "800/800 [==============================] - 0s 601us/step - loss: 0.2582 - acc: 0.9363 - val_loss: 0.4764 - val_acc: 0.8750\n",
      "Epoch 10/10\n",
      "800/800 [==============================] - 0s 594us/step - loss: 0.2308 - acc: 0.9400 - val_loss: 0.4465 - val_acc: 0.8750\n"
     ]
    }
   ],
   "source": [
    "mini_batch_history = batch_model.fit(x_train[:1000], y_train[:1000], validation_split=0.2, batch_size=32, epochs=10)"
   ]
  },
  {
   "cell_type": "code",
   "execution_count": 64,
   "metadata": {},
   "outputs": [
    {
     "data": {
      "image/png": "[encoded data removed]",
      "text/plain": [
       "<Figure size 432x288 with 1 Axes>"
      ]
     },
     "metadata": {
      "needs_background": "light"
     },
     "output_type": "display_data"
    },
    {
     "data": {
      "image/png": "[encoded data removed]",
      "text/plain": [
       "<Figure size 432x288 with 1 Axes>"
      ]
     },
     "metadata": {
      "needs_background": "light"
     },
     "output_type": "display_data"
    }
   ],
   "source": [
    "show_acc_graph(mini_batch_history)\n",
    "show_loss_graph(mini_batch_history)"
   ]
  },
  {
   "cell_type": "markdown",
   "metadata": {},
   "source": [
    "### SGD"
   ]
  },
  {
   "cell_type": "code",
   "execution_count": 65,
   "metadata": {},
   "outputs": [
    {
     "name": "stdout",
     "output_type": "stream",
     "text": [
      "_________________________________________________________________\n",
      "Layer (type)                 Output Shape              Param #   \n",
      "=================================================================\n",
      "conv2d_9 (Conv2D)            (None, 28, 28, 8)         80        \n",
      "_________________________________________________________________\n",
      "max_pooling2d_9 (MaxPooling2 (None, 14, 14, 8)         0         \n",
      "_________________________________________________________________\n",
      "flatten_9 (Flatten)          (None, 1568)              0         \n",
      "_________________________________________________________________\n",
      "dense_9 (Dense)              (None, 10)                15690     \n",
      "=================================================================\n",
      "Total params: 15,770\n",
      "Trainable params: 15,770\n",
      "Non-trainable params: 0\n",
      "_________________________________________________________________\n"
     ]
    }
   ],
   "source": [
    "# reinitialize model\n",
    "batch_model = Sequential()\n",
    "batch_model.add(Conv2D(filters=8, kernel_size=(3,3), padding='same', activation='relu', input_shape=(28,28,1)))\n",
    "batch_model.add(MaxPool2D(pool_size=2))\n",
    "\n",
    "batch_model.add(Flatten())\n",
    "batch_model.add(Dense(10, activation='softmax'))\n",
    "\n",
    "batch_model.compile(optimizer='adam', loss='categorical_crossentropy', metrics=['accuracy']) # optimizer is not yet implemented\n",
    "batch_model.summary()"
   ]
  },
  {
   "cell_type": "code",
   "execution_count": 66,
   "metadata": {},
   "outputs": [
    {
     "name": "stdout",
     "output_type": "stream",
     "text": [
      "Train on 800 samples, validate on 200 samples\n",
      "Epoch 1/10\n",
      "800/800 [==============================] - 6s 8ms/step - loss: 0.9337 - acc: 0.7087 - val_loss: 0.5654 - val_acc: 0.8300\n",
      "Epoch 2/10\n",
      "800/800 [==============================] - 5s 6ms/step - loss: 0.3428 - acc: 0.8987 - val_loss: 0.5523 - val_acc: 0.8350\n",
      "Epoch 3/10\n",
      "800/800 [==============================] - 5s 7ms/step - loss: 0.2491 - acc: 0.9350 - val_loss: 0.5637 - val_acc: 0.8550\n",
      "Epoch 4/10\n",
      "800/800 [==============================] - 5s 6ms/step - loss: 0.1650 - acc: 0.9462 - val_loss: 0.5012 - val_acc: 0.8550\n",
      "Epoch 5/10\n",
      "800/800 [==============================] - 5s 7ms/step - loss: 0.1159 - acc: 0.9662 - val_loss: 0.6410 - val_acc: 0.8300\n",
      "Epoch 6/10\n",
      "800/800 [==============================] - 5s 6ms/step - loss: 0.0849 - acc: 0.9750 - val_loss: 0.5602 - val_acc: 0.8550\n",
      "Epoch 7/10\n",
      "800/800 [==============================] - 5s 6ms/step - loss: 0.0510 - acc: 0.9875 - val_loss: 0.6330 - val_acc: 0.8350\n",
      "Epoch 8/10\n",
      "800/800 [==============================] - 5s 6ms/step - loss: 0.0352 - acc: 0.9938 - val_loss: 0.5932 - val_acc: 0.8500\n",
      "Epoch 9/10\n",
      "800/800 [==============================] - 5s 6ms/step - loss: 0.0289 - acc: 0.9987 - val_loss: 0.6806 - val_acc: 0.8550\n",
      "Epoch 10/10\n",
      "800/800 [==============================] - 5s 6ms/step - loss: 0.0164 - acc: 0.9975 - val_loss: 0.7882 - val_acc: 0.8450\n"
     ]
    }
   ],
   "source": [
    "sgd_batch_history = batch_model.fit(x_train[:1000], y_train[:1000], validation_split=0.2, batch_size=1, epochs=10)"
   ]
  },
  {
   "cell_type": "code",
   "execution_count": 67,
   "metadata": {},
   "outputs": [
    {
     "data": {
      "image/png": "[encoded data removed]",
      "text/plain": [
       "<Figure size 432x288 with 1 Axes>"
      ]
     },
     "metadata": {
      "needs_background": "light"
     },
     "output_type": "display_data"
    },
    {
     "data": {
      "image/png": "[encoded data removed]",
      "text/plain": [
       "<Figure size 432x288 with 1 Axes>"
      ]
     },
     "metadata": {
      "needs_background": "light"
     },
     "output_type": "display_data"
    }
   ],
   "source": [
    "show_acc_graph(sgd_batch_history)\n",
    "show_loss_graph(sgd_batch_history)"
   ]
  },
  {
   "cell_type": "markdown",
   "metadata": {},
   "source": [
    "### Batch Gradient Descent"
   ]
  },
  {
   "cell_type": "code",
   "execution_count": 68,
   "metadata": {},
   "outputs": [
    {
     "name": "stdout",
     "output_type": "stream",
     "text": [
      "_________________________________________________________________\n",
      "Layer (type)                 Output Shape              Param #   \n",
      "=================================================================\n",
      "conv2d_10 (Conv2D)           (None, 28, 28, 8)         80        \n",
      "_________________________________________________________________\n",
      "max_pooling2d_10 (MaxPooling (None, 14, 14, 8)         0         \n",
      "_________________________________________________________________\n",
      "flatten_10 (Flatten)         (None, 1568)              0         \n",
      "_________________________________________________________________\n",
      "dense_10 (Dense)             (None, 10)                15690     \n",
      "=================================================================\n",
      "Total params: 15,770\n",
      "Trainable params: 15,770\n",
      "Non-trainable params: 0\n",
      "_________________________________________________________________\n"
     ]
    }
   ],
   "source": [
    "# reinitialize model\n",
    "batch_model = Sequential()\n",
    "batch_model.add(Conv2D(filters=8, kernel_size=(3,3), padding='same', activation='relu', input_shape=(28,28,1)))\n",
    "batch_model.add(MaxPool2D(pool_size=2))\n",
    "\n",
    "batch_model.add(Flatten())\n",
    "batch_model.add(Dense(10, activation='softmax'))\n",
    "\n",
    "batch_model.compile(optimizer='adam', loss='categorical_crossentropy', metrics=['accuracy']) # optimizer is not yet implemented\n",
    "batch_model.summary()"
   ]
  },
  {
   "cell_type": "code",
   "execution_count": 69,
   "metadata": {},
   "outputs": [
    {
     "name": "stdout",
     "output_type": "stream",
     "text": [
      "Train on 800 samples, validate on 200 samples\n",
      "Epoch 1/10\n",
      "800/800 [==============================] - 1s 2ms/step - loss: 2.3071 - acc: 0.0800 - val_loss: 2.2719 - val_acc: 0.1050\n",
      "Epoch 2/10\n",
      "800/800 [==============================] - 0s 312us/step - loss: 2.2849 - acc: 0.0900 - val_loss: 2.2480 - val_acc: 0.1300\n",
      "Epoch 3/10\n",
      "800/800 [==============================] - 0s 294us/step - loss: 2.2595 - acc: 0.1150 - val_loss: 2.2206 - val_acc: 0.2050\n",
      "Epoch 4/10\n",
      "800/800 [==============================] - 0s 300us/step - loss: 2.2304 - acc: 0.1650 - val_loss: 2.1933 - val_acc: 0.2650\n",
      "Epoch 5/10\n",
      "800/800 [==============================] - 0s 313us/step - loss: 2.2013 - acc: 0.2438 - val_loss: 2.1660 - val_acc: 0.3350\n",
      "Epoch 6/10\n",
      "800/800 [==============================] - 0s 309us/step - loss: 2.1721 - acc: 0.3388 - val_loss: 2.1394 - val_acc: 0.4500\n",
      "Epoch 7/10\n",
      "800/800 [==============================] - 0s 309us/step - loss: 2.1435 - acc: 0.4313 - val_loss: 2.1117 - val_acc: 0.5300\n",
      "Epoch 8/10\n",
      "800/800 [==============================] - 0s 315us/step - loss: 2.1138 - acc: 0.5075 - val_loss: 2.0842 - val_acc: 0.6000\n",
      "Epoch 9/10\n",
      "800/800 [==============================] - 0s 300us/step - loss: 2.0841 - acc: 0.5750 - val_loss: 2.0563 - val_acc: 0.6350\n",
      "Epoch 10/10\n",
      "800/800 [==============================] - 0s 314us/step - loss: 2.0539 - acc: 0.6212 - val_loss: 2.0279 - val_acc: 0.6600\n"
     ]
    }
   ],
   "source": [
    "batch_history = batch_model.fit(x_train[:1000], y_train[:1000], validation_split=0.2, batch_size=1000, epochs=10)"
   ]
  },
  {
   "cell_type": "code",
   "execution_count": 70,
   "metadata": {},
   "outputs": [
    {
     "data": {
      "image/png": "[encoded data removed]",
      "text/plain": [
       "<Figure size 432x288 with 1 Axes>"
      ]
     },
     "metadata": {
      "needs_background": "light"
     },
     "output_type": "display_data"
    },
    {
     "data": {
      "image/png": "[encoded data removed]",
      "text/plain": [
       "<Figure size 432x288 with 1 Axes>"
      ]
     },
     "metadata": {
      "needs_background": "light"
     },
     "output_type": "display_data"
    }
   ],
   "source": [
    "show_acc_graph(batch_history)\n",
    "show_loss_graph(batch_history)"
   ]
  },
  {
   "cell_type": "code",
   "execution_count": null,
   "metadata": {},
   "outputs": [],
   "source": []
  },
  {
   "cell_type": "code",
   "execution_count": null,
   "metadata": {},
   "outputs": [],
   "source": []
  }
 ],
 "metadata": {
  "kernelspec": {
   "display_name": "Python 3",
   "language": "python",
   "name": "python3"
  },
  "language_info": {
   "codemirror_mode": {
    "name": "ipython",
    "version": 3
   },
   "file_extension": ".py",
   "mimetype": "text/x-python",
   "name": "python",
   "nbconvert_exporter": "python",
   "pygments_lexer": "ipython3",
   "version": "3.6.6"
  }
 },
 "nbformat": 4,
 "nbformat_minor": 2
}
