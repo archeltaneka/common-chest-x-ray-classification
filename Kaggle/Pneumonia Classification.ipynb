{
 "cells": [
  {
   "cell_type": "markdown",
   "metadata": {},
   "source": [
    "# Dissertation Project Code: Common Chest X-ray Classification and Localization with Deep Learning"
   ]
  },
  {
   "cell_type": "markdown",
   "metadata": {},
   "source": [
    "This is another source code for my final project dissertation on \"Chest X-ray Classification and Localization\" by analysing (breaking down) each disease"
   ]
  },
  {
   "cell_type": "markdown",
   "metadata": {},
   "source": [
    "Let's start by importing the libraries"
   ]
  },
  {
   "cell_type": "code",
   "execution_count": null,
   "metadata": {
    "_cell_guid": "b1076dfc-b9ad-4769-8c92-a6c4dae69d19",
    "_uuid": "8f2839f25d086af736a60e9eeb907d3b93b6e0e5"
   },
   "outputs": [],
   "source": [
    "import numpy as np\n",
    "import pandas as pd\n",
    "import os\n",
    "import seaborn as sns\n",
    "import cv2\n",
    "import matplotlib.pyplot as plt\n",
    "import matplotlib.image as mpimg\n",
    "\n",
    "from glob import glob\n",
    "from matplotlib.patches import Rectangle\n",
    "\n",
    "import keras.backend as K\n",
    "from keras.preprocessing.image import ImageDataGenerator, load_img, image\n",
    "from sklearn.model_selection import train_test_split\n",
    "from keras.models import Sequential, Model\n",
    "from keras.layers import Conv2D, MaxPooling2D, GlobalAveragePooling2D, Dropout, Flatten, Dense, BatchNormalization\n",
    "from keras.callbacks import ModelCheckpoint, EarlyStopping\n",
    "from keras.applications import VGG16, VGG19, MobileNet, MobileNetV2, InceptionResNetV2, InceptionV3, ResNet50, DenseNet121, DenseNet169, DenseNet201\n",
    "from keras import regularizers, optimizers\n",
    "from keras.applications.vgg16 import decode_predictions, preprocess_input\n",
    "%matplotlib inline"
   ]
  },
  {
   "cell_type": "code",
   "execution_count": null,
   "metadata": {},
   "outputs": [],
   "source": [
    "print(os.listdir('../input/data')) # list the items in the directory"
   ]
  },
  {
   "cell_type": "markdown",
   "metadata": {},
   "source": [
    "Don't forget to create the glob object and insert the full path to the directory of the image to a new column."
   ]
  },
  {
   "cell_type": "code",
   "execution_count": null,
   "metadata": {
    "_cell_guid": "79c7e3d0-c299-4dcb-8224-4455121ee9b0",
    "_uuid": "d629ff2d2480ee46fbb7e2d37f6b5fab8052498a"
   },
   "outputs": [],
   "source": [
    "PATH = '../input/data/images*/images/*.png'\n",
    "pattern = glob(PATH)\n",
    "print(\"Total number of images: \", len(pattern))"
   ]
  },
  {
   "cell_type": "code",
   "execution_count": null,
   "metadata": {},
   "outputs": [],
   "source": [
    "# load the data\n",
    "data = pd.read_csv('../input/data/Data_Entry_2017.csv')\n",
    "data.head()"
   ]
  },
  {
   "cell_type": "code",
   "execution_count": null,
   "metadata": {},
   "outputs": [],
   "source": [
    "full_path = {os.path.basename(x): x for x in pattern}\n",
    "data['full_path'] = data['Image Index'].map(full_path.get)"
   ]
  },
  {
   "cell_type": "markdown",
   "metadata": {},
   "source": [
    "## Breaking Down The Diseases"
   ]
  },
  {
   "cell_type": "markdown",
   "metadata": {},
   "source": [
    "To simplify the problem, let's take the 1 vs all approach"
   ]
  },
  {
   "cell_type": "markdown",
   "metadata": {},
   "source": [
    "Let's take \"Infiltration\" for example. We can try with different diseases by commenting and uncommenting the corresponding codes below."
   ]
  },
  {
   "cell_type": "code",
   "execution_count": null,
   "metadata": {},
   "outputs": [],
   "source": [
    "# data['is_infiltration'] = data['Finding Labels'].map(lambda result: 'Yes' if 'Infiltration' in result else 'No')\n",
    "# data['is_atelectasis'] = data['Finding Labels'].map(lambda result: 'Yes' if 'Atelectasis' in result else 'No')\n",
    "# data['is_cardiomegaly'] = data['Finding Labels'].map(lambda result: 'Yes' if 'Cardiomegaly' in result else 'No')\n",
    "# data['is_mass'] = data['Finding Labels'].map(lambda result: 'Yes' if 'Mass' in result else 'No')\n",
    "# data['is_nodule'] = data['Finding Labels'].map(lambda result: 'Yes' if 'Nodule' in result else 'No')\n",
    "# data['is_pneumonia'] = data['Finding Labels'].map(lambda result: 'Yes' if 'Pneumonia' in result else 'No')\n",
    "# data['is_consolidation'] = data['Finding Labels'].map(lambda result: 'Yes' if 'Consolidation' in result else 'No')\n",
    "# data['is_edema'] = data['Finding Labels'].map(lambda result: 'Yes' if 'Edema' in result else 'No')\n",
    "# data['is_fibrosis'] = data['Finding Labels'].map(lambda result: 'Yes' if 'Fibrosis' in result else 'No')\n",
    "# data['is_effusion'] = data['Finding Labels'].map(lambda result: 'Yes' if 'Effusion' in result else 'No')\n",
    "# data['is_pleural'] = data['Finding Labels'].map(lambda result: 'Yes' if 'Pleural_Thickening' in result else 'No')\n",
    "# data['is_hernia'] = data['Finding Labels'].map(lambda result: 'Yes' if 'Hernia' in result else 'No')\n",
    "# data['is_emphysema'] = data['Finding Labels'].map(lambda result: 'Yes' if 'Emphysema' in result else 'No')\n",
    "data['is_pneumothorax'] = data['Finding Labels'].map(lambda result: 'Yes' if 'Pneumothorax' in result else 'No')"
   ]
  },
  {
   "cell_type": "code",
   "execution_count": null,
   "metadata": {},
   "outputs": [],
   "source": [
    "data.head()"
   ]
  },
  {
   "cell_type": "markdown",
   "metadata": {},
   "source": [
    "Instead of using the one-hot encoding method to create a label for the dataset, **we can just create a label if there is the word \"Infiltration\" in the \"Finding Labels\" column**<br>\n",
    "\n",
    "Now the problem becomes a binary classification problem, instead of the multi classification problem which makes it easier for us"
   ]
  },
  {
   "cell_type": "markdown",
   "metadata": {},
   "source": [
    "## Data Pre-processing and Augmentation"
   ]
  },
  {
   "cell_type": "markdown",
   "metadata": {},
   "source": [
    "Split between train/test/val data"
   ]
  },
  {
   "cell_type": "code",
   "execution_count": null,
   "metadata": {},
   "outputs": [],
   "source": [
    "# Prepare the training and validation set\n",
    "train_set, val_set = train_test_split(data, test_size=0.1, random_state=1993)\n",
    "train_set, test_set = train_test_split(train_set, test_size=0.1, random_state=1993)"
   ]
  },
  {
   "cell_type": "markdown",
   "metadata": {},
   "source": [
    "Same data augmentation as before"
   ]
  },
  {
   "cell_type": "code",
   "execution_count": null,
   "metadata": {},
   "outputs": [],
   "source": [
    "# creates image data generator to improve x-ray readings\n",
    "IMG_SIZE = (224, 224)\n",
    "train_datagen = ImageDataGenerator(rescale=1./255, # scales the image pixel value\n",
    "                                   #samplewise_center=True,\n",
    "                                   horizontal_flip=True, # allows horizontal flip\n",
    "                                   vertical_flip=False, # we don't want the xrays to be upside-down\n",
    "                                   height_shift_range=0.2,\n",
    "                                   width_shift_range=0.2,\n",
    "                                   rotation_range=20, # random rotations to 20 degrees\n",
    "                                   shear_range=0.2,\n",
    "                                   zoom_range=0.2,\n",
    "                                   )\n",
    "\n",
    "test_datagen = ImageDataGenerator(rescale=1./255) # just scale the pixel image, we don't want to preprocess the test set"
   ]
  },
  {
   "cell_type": "markdown",
   "metadata": {},
   "source": [
    "I just found that Keras has built-in method called **.flow_from_dataframe** which is the same as **flow_from_dataframe** method from the previous notebook.<br><br>\n",
    "\n",
    "Let's try it in this notebook"
   ]
  },
  {
   "cell_type": "code",
   "execution_count": null,
   "metadata": {},
   "outputs": [],
   "source": [
    "train_generator = train_datagen.flow_from_dataframe(dataframe=train_set,\n",
    "                                                   directory=None,\n",
    "                                                   batch_size=32,\n",
    "                                                    x_col='full_path',\n",
    "                                                    y_col='is_pneumothorax',\n",
    "                                                    shuffle=True,\n",
    "                                                    target_size=IMG_SIZE,\n",
    "                                                    seed=111,\n",
    "                                                   class_mode='binary')\n",
    "\n",
    "val_X, val_Y = next(test_datagen.flow_from_dataframe(dataframe=val_set,\n",
    "                                                   directory=None,\n",
    "                                                   batch_size=256,\n",
    "                                                   x_col='full_path',\n",
    "                                                   y_col='is_pneumothorax',\n",
    "                                                   shuffle=True,\n",
    "                                                   target_size=IMG_SIZE,\n",
    "                                                   seed=111,\n",
    "                                                   class_mode='binary'))\n",
    "\n",
    "test_X, test_Y = next(test_datagen.flow_from_dataframe(dataframe=test_set,\n",
    "                                                   directory=None,\n",
    "                                                   batch_size=1024,\n",
    "                                                   x_col='full_path',\n",
    "                                                   y_col='is_pneumothorax',\n",
    "                                                   shuffle=True,\n",
    "                                                   target_size=IMG_SIZE,\n",
    "                                                   seed=111,\n",
    "                                                   class_mode='binary'))"
   ]
  },
  {
   "cell_type": "markdown",
   "metadata": {},
   "source": [
    "Don't forget to **change class_mode into binary** instead of sparse or categorical, since now we are dealing with the binary classification problem"
   ]
  },
  {
   "cell_type": "markdown",
   "metadata": {},
   "source": [
    "## Building The Model"
   ]
  },
  {
   "cell_type": "code",
   "execution_count": null,
   "metadata": {},
   "outputs": [],
   "source": [
    "base_choice = 'VGG16'\n",
    "# VGG16\n",
    "if base_choice.upper() == 'VGG16':\n",
    "    base_model = VGG16(include_top=False, input_shape=(224,224,3), weights='imagenet')\n",
    "# VGG19\n",
    "elif base_choice.upper() == 'VGG19':   \n",
    "    base_model = VGG19(include_top=False, input_shape=(224,224,3))\n",
    "# MobileNet\n",
    "elif base_choice.upper() == 'MOBILE':\n",
    "    base_model = MobileNet(include_top=False, input_shape=(224,224,3))\n",
    "# MobileNetV2\n",
    "elif base_choice.upper() == 'MOBILEV2':\n",
    "    base_model = MobileNetV2(include_top=False, input_shape=(224,224,3))\n",
    "# InceptionResNetV2\n",
    "elif base_choice.upper() == 'INCEPTIONV2':\n",
    "    base_model = InceptionResNetV2(include_top=False, input_shape=(224,224,3))\n",
    "# InceptionV3\n",
    "elif base_choice.upper() == 'INCEPTIONV3':\n",
    "    base_model = InceptionV3(include_top=False, input_shape=(224,224,3))\n",
    "# ResNet50\n",
    "elif base_choice.upper() == 'RESNET50':\n",
    "    base_model = ResNet50(include_top=False, input_shape=(224,224,3))\n",
    "# DenseNet 121\n",
    "elif base_choice.upper() == 'DENSE121':\n",
    "    base_model = DenseNet121(include_top=False, input_shape=(224,224,3))\n",
    "# DenseNet 169\n",
    "elif base_choice.upper() == 'DENSE169':\n",
    "    base_model = DenseNet169(include_top=False, input_shape=(224,224,3))\n",
    "# DenseNet 201\n",
    "elif base_choice.upper() == 'DENSE201':\n",
    "    base_model = DenseNet201(include_top=False, input_shape=(224,224,3))\n",
    "    \n",
    "print(\"Base pre-trained model:\", base_choice)\n",
    "base_model.summary()"
   ]
  },
  {
   "cell_type": "code",
   "execution_count": null,
   "metadata": {},
   "outputs": [],
   "source": [
    "# freeze the base model\n",
    "for layer in base_model.layers:\n",
    "    layer.trainable = False\n",
    "        \n",
    "# adds our own dense layers\n",
    "output = base_model.output\n",
    "output = Flatten()(output)\n",
    "output = Dense(512, activation='relu', kernel_initializer='glorot_uniform', bias_initializer='zeros', kernel_regularizer=regularizers.l2(0.01))(output)\n",
    "last_output = Dense(1, activation='sigmoid')(output)\n",
    "# construct final model\n",
    "final_model = Model(base_model.input, last_output)\n",
    "# compile the model\n",
    "# opt = optimizers.Adam(lr=1e-3, decay=1e-5)\n",
    "final_model.compile(optimizer='adagrad', loss='binary_crossentropy', metrics=['binary_accuracy'])\n",
    "final_model.summary()"
   ]
  },
  {
   "cell_type": "code",
   "execution_count": null,
   "metadata": {},
   "outputs": [],
   "source": [
    "#saves the best model for each epoch\n",
    "# WEIGHT_PATH = 'checkpoint.{epoch:02d}-{val_loss:.2f}.hdf5'\n",
    "# checkpoint = ModelCheckpoint(filepath=WEIGHT_PATH, monitor='val_loss', verbose=1, save_best_only=True)"
   ]
  },
  {
   "cell_type": "code",
   "execution_count": null,
   "metadata": {},
   "outputs": [],
   "source": [
    "fitted_model = final_model.fit_generator(generator=train_generator, steps_per_epoch=len(train_generator)//32, epochs=5, validation_data=(val_X, val_Y), validation_steps=len(val_X)//256)"
   ]
  },
  {
   "cell_type": "code",
   "execution_count": null,
   "metadata": {},
   "outputs": [],
   "source": [
    "final_model.save('weights.'+base_choice+ '-' + 'pneumothorax' + '.hdf5')"
   ]
  },
  {
   "cell_type": "code",
   "execution_count": null,
   "metadata": {},
   "outputs": [],
   "source": [
    "pred_Y = final_model.predict(test_X, batch_size = 64, verbose = True)"
   ]
  },
  {
   "cell_type": "code",
   "execution_count": null,
   "metadata": {},
   "outputs": [],
   "source": [
    "final_model.evaluate(test_X, test_Y, batch_size=128)"
   ]
  },
  {
   "cell_type": "markdown",
   "metadata": {},
   "source": [
    "As you can see our ROC is only consisted of one curve, which is the disease we broke down at the beginning of this notebook. "
   ]
  },
  {
   "cell_type": "code",
   "execution_count": null,
   "metadata": {},
   "outputs": [],
   "source": [
    "from sklearn.metrics import roc_curve, auc\n",
    "fig, c_ax = plt.subplots(1,1, figsize = (9, 9))\n",
    "# for (idx, c_label) in enumerate(diseases):\n",
    "fpr, tpr, thresholds = roc_curve(test_Y.astype(int), pred_Y)\n",
    "c_ax.plot(fpr, tpr, label = '%s (AUC:%0.2f)'  % ('Infiltration', auc(fpr, tpr)))\n",
    "c_ax.legend()\n",
    "c_ax.set_xlabel('False Positive Rate')\n",
    "c_ax.set_ylabel('True Positive Rate')"
   ]
  },
  {
   "cell_type": "code",
   "execution_count": null,
   "metadata": {},
   "outputs": [],
   "source": [
    "print(fitted_model.history.keys())"
   ]
  },
  {
   "cell_type": "code",
   "execution_count": null,
   "metadata": {},
   "outputs": [],
   "source": [
    "plt.plot(fitted_model.history['loss'])\n",
    "plt.plot(fitted_model.history['val_loss'])\n",
    "plt.title('Model Loss vs Validation Loss')\n",
    "plt.ylabel('Loss')\n",
    "plt.xlabel('Epoch')\n",
    "plt.legend(['train', 'validation'], loc='upper right')\n",
    "plt.show()"
   ]
  },
  {
   "cell_type": "code",
   "execution_count": null,
   "metadata": {},
   "outputs": [],
   "source": [
    "plt.plot(fitted_model.history['binary_accuracy'])\n",
    "plt.plot(fitted_model.history['val_binary_accuracy'])\n",
    "plt.title('Training Accuracy vs validation Accuracy')\n",
    "plt.ylabel('Accuracy')\n",
    "plt.xlabel('Epoch')\n",
    "plt.legend(['train', 'validation'], loc='upper right')\n",
    "plt.show()"
   ]
  },
  {
   "cell_type": "markdown",
   "metadata": {},
   "source": [
    "In this directory, there is also a data for the correct localisation from several images. It is in the BBox_List_2017.csv"
   ]
  },
  {
   "cell_type": "code",
   "execution_count": null,
   "metadata": {},
   "outputs": [],
   "source": [
    "box_data = pd.read_csv('../input/data/BBox_List_2017.csv')"
   ]
  },
  {
   "cell_type": "code",
   "execution_count": null,
   "metadata": {},
   "outputs": [],
   "source": [
    "len(box_data)"
   ]
  },
  {
   "cell_type": "markdown",
   "metadata": {},
   "source": [
    "Remember that this is only consists of 984 data, not the whole 112,120 data that we used to train and test the model"
   ]
  },
  {
   "cell_type": "code",
   "execution_count": null,
   "metadata": {},
   "outputs": [],
   "source": [
    "box_data['Finding Label'].unique()"
   ]
  },
  {
   "cell_type": "markdown",
   "metadata": {},
   "source": [
    "Also, there are only 8 diseases available in this dataset"
   ]
  },
  {
   "cell_type": "markdown",
   "metadata": {},
   "source": [
    "Let's focus on Infiltration first"
   ]
  },
  {
   "cell_type": "code",
   "execution_count": null,
   "metadata": {},
   "outputs": [],
   "source": [
    "infiltrate = box_data[box_data['Finding Label'] == 'Infiltrate']"
   ]
  },
  {
   "cell_type": "code",
   "execution_count": null,
   "metadata": {},
   "outputs": [],
   "source": [
    "infiltrate.head()"
   ]
  },
  {
   "cell_type": "markdown",
   "metadata": {},
   "source": [
    "There are 4 columns (x, y, w, and h) that we can use to draw a rectangle to locate where the disease is in the image."
   ]
  },
  {
   "cell_type": "code",
   "execution_count": null,
   "metadata": {},
   "outputs": [],
   "source": [
    "for i in range(len(data)):\n",
    "    if data['Image Index'].iloc[i] == '00025787_027.png':\n",
    "        print(data['full_path'].iloc[i])\n",
    "        break"
   ]
  },
  {
   "cell_type": "markdown",
   "metadata": {},
   "source": [
    "Let's test with a random x-ray image which has the Infiltration disease"
   ]
  },
  {
   "cell_type": "code",
   "execution_count": null,
   "metadata": {},
   "outputs": [],
   "source": [
    "PATH_IMG = '../input/data/images_011/images/00025787_027.png'\n",
    "\n",
    "img = load_img(PATH_IMG, target_size=(224,224))\n",
    "x = image.img_to_array(img)\n",
    "x = np.expand_dims(x, axis=0)\n",
    "x = preprocess_input(x)"
   ]
  },
  {
   "cell_type": "markdown",
   "metadata": {},
   "source": [
    "Make a prediction with our model on that image"
   ]
  },
  {
   "cell_type": "code",
   "execution_count": null,
   "metadata": {},
   "outputs": [],
   "source": [
    "pred = final_model.predict(x) # predict with the model we just trained\n",
    "pred = list(pred.flatten())\n",
    "argmax = np.argmax(pred[0])\n",
    "output = final_model.output[:, argmax]"
   ]
  },
  {
   "cell_type": "code",
   "execution_count": null,
   "metadata": {},
   "outputs": [],
   "source": [
    "pred"
   ]
  },
  {
   "cell_type": "markdown",
   "metadata": {},
   "source": [
    "## Localisation with Grad-CAM"
   ]
  },
  {
   "cell_type": "markdown",
   "metadata": {},
   "source": [
    "Grad-CAM is similar with the CAM algorithm. However, it implements gradient-weighted class activation in the process."
   ]
  },
  {
   "cell_type": "markdown",
   "metadata": {},
   "source": [
    "> Gradient-weighted Class Activation Mapping (Grad-CAM), uses the gradients of any target concept (say logits for ‘dog’ or even a caption), flowing into the final convolutional layer to produce a coarse localization map highlighting the important regions in the image for predicting the concept. (R. Ramprasaath et al., 2019)."
   ]
  },
  {
   "cell_type": "markdown",
   "metadata": {},
   "source": [
    "The general algorithm looks like this:\n",
    "\n",
    "1. It extracts the final convolutional layer from the model like CAM does\n",
    "2. The next step is slightly different from CAM. Instead of just taking the logits (np.argmax) from the class, it also extracts the gradients of that class.\n",
    "3. Next, take the mean from it. Why mean? This method does not need us to add another pooling layer e.g. GlobalAveragePooling2D.\n",
    "4. Construct a temporary model with the input from final_model and output from the last convolutional layer output"
   ]
  },
  {
   "cell_type": "code",
   "execution_count": null,
   "metadata": {},
   "outputs": [],
   "source": [
    "# take the last convolutional layer\n",
    "last_conv_layer = final_model.get_layer('block5_conv3')\n",
    "# extract the gradients from the last convolutional layer against the class logits (np.argmax)\n",
    "grads = K.gradients(output, last_conv_layer.output)[0]\n",
    "# print(grads.shape)\n",
    "# take the mean of the gradients, leaving us with the channel dimension --> global average pooling\n",
    "pooled_grads = K.mean(grads, axis=(0,1,2))\n",
    "# define a temporary model with pre-trained model as its input and the last convolutional layer as its output\n",
    "i = K.function([final_model.input], [pooled_grads, last_conv_layer.output[0]])\n",
    "pooled_grads_value, conv_layer_output_value = i([x])"
   ]
  },
  {
   "cell_type": "markdown",
   "metadata": {},
   "source": [
    "5. Finally, compute the matrix multiplication from both of them."
   ]
  },
  {
   "cell_type": "code",
   "execution_count": null,
   "metadata": {},
   "outputs": [],
   "source": [
    "# do the matrix multiplication to obtain weight between the last convolutional layer and its gradient\n",
    "for l in range(512):\n",
    "    conv_layer_output_value[:, :, l] *= pooled_grads_value[l]"
   ]
  },
  {
   "cell_type": "markdown",
   "metadata": {},
   "source": [
    "Don't forget to normalize those values into 0-1 range"
   ]
  },
  {
   "cell_type": "code",
   "execution_count": null,
   "metadata": {},
   "outputs": [],
   "source": [
    "# average the weighted feature map along the channel dimension which resulting in a heatmap\n",
    "heatmap = np.mean(conv_layer_output_value, axis=-1)\n",
    "# normalize the heatmap\n",
    "heatmap = np.maximum(heatmap, 0)\n",
    "heatmap /= np.max(heatmap)\n",
    "# display the matrix values with matshow\n",
    "plt.matshow(heatmap) \n",
    "plt.show()"
   ]
  },
  {
   "cell_type": "markdown",
   "metadata": {},
   "source": [
    "We can get a glimpse of where the the disease occured (if any) just by seeing the plot above."
   ]
  },
  {
   "cell_type": "code",
   "execution_count": null,
   "metadata": {},
   "outputs": [],
   "source": [
    "pred[0]"
   ]
  },
  {
   "cell_type": "markdown",
   "metadata": {},
   "source": [
    "Now, let's apply this heatmap to our test image"
   ]
  },
  {
   "cell_type": "code",
   "execution_count": null,
   "metadata": {},
   "outputs": [],
   "source": [
    "img = cv2.imread(PATH_IMG)\n",
    "heatmap = cv2.resize(heatmap, (img.shape[1], img.shape[0]))\n",
    "\n",
    "# multiply heatmap by 255 to convert it back to RGB\n",
    "heatmap = np.uint8(255 * heatmap)\n",
    "heatmap = cv2.applyColorMap(heatmap, cv2.COLORMAP_JET)\n",
    "\n",
    "hif = .5 # intensity (transparency) value\n",
    "\n",
    "superimposed_img = heatmap * hif + img # paste the heatmap * intensity to the original image\n",
    "output = 'output.jpeg'\n",
    "cv2.imwrite(output, superimposed_img)\n",
    "img=mpimg.imread(output)\n",
    "plt.imshow(img)\n",
    "plt.axis('off')\n",
    "plt.title('Result:' + str('Normal' if pred[0] < 0.5 else 'Infiltration') + '|' + 'Confidence:' + str(pred[0] * 100))"
   ]
  },
  {
   "cell_type": "markdown",
   "metadata": {},
   "source": [
    "And we are done! :)"
   ]
  },
  {
   "cell_type": "markdown",
   "metadata": {},
   "source": [
    "We can check if our localisation is the same with the dataset."
   ]
  },
  {
   "cell_type": "code",
   "execution_count": null,
   "metadata": {},
   "outputs": [],
   "source": [
    "# get x,y,w,h from the row of the test image\n",
    "row = box_data[box_data['Image Index'] == '00025787_027.png']"
   ]
  },
  {
   "cell_type": "code",
   "execution_count": null,
   "metadata": {},
   "outputs": [],
   "source": [
    "row.iloc[1]"
   ]
  },
  {
   "cell_type": "code",
   "execution_count": null,
   "metadata": {},
   "outputs": [],
   "source": [
    "row['Bbox [x'].iloc[1]"
   ]
  },
  {
   "cell_type": "code",
   "execution_count": null,
   "metadata": {},
   "outputs": [],
   "source": [
    "# draw a rectangle around the chest x-ray\n",
    "plt.imshow(cv2.imread(PATH_IMG))\n",
    "rect = Rectangle((row['Bbox [x'].iloc[1],row['y'].iloc[1]), \n",
    "                  row['w'].iloc[1], row['h]'].iloc[1], \n",
    "                  fill=False, color='red')\n",
    "plt.axes().add_patch(rect)\n",
    "plt.show()"
   ]
  },
  {
   "cell_type": "code",
   "execution_count": null,
   "metadata": {},
   "outputs": [],
   "source": []
  },
  {
   "cell_type": "code",
   "execution_count": null,
   "metadata": {},
   "outputs": [],
   "source": []
  }
 ],
 "metadata": {
  "kernelspec": {
   "display_name": "Python 3",
   "language": "python",
   "name": "python3"
  },
  "language_info": {
   "codemirror_mode": {
    "name": "ipython",
    "version": 3
   },
   "file_extension": ".py",
   "mimetype": "text/x-python",
   "name": "python",
   "nbconvert_exporter": "python",
   "pygments_lexer": "ipython3",
   "version": "3.6.10"
  }
 },
 "nbformat": 4,
 "nbformat_minor": 1
}
