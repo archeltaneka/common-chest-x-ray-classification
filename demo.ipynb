{
 "cells": [
  {
   "cell_type": "markdown",
   "metadata": {},
   "source": [
    "# Flowtensor Demo"
   ]
  },
  {
   "cell_type": "markdown",
   "metadata": {},
   "source": [
    "## 1. Importing the libraries"
   ]
  },
  {
   "cell_type": "markdown",
   "metadata": {},
   "source": [
    "Convolution2D, Maxpool2D, and Softmax works similarly with the famous libraries such as Tensorflow, PyTorch, Caffe, etc. However, it is still very limited unlike those libraries"
   ]
  },
  {
   "cell_type": "code",
   "execution_count": 1,
   "metadata": {},
   "outputs": [],
   "source": [
    "import numpy as np\n",
    "import matplotlib.pyplot as plt\n",
    "\n",
    "# import our custom library\n",
    "from lib.flowtensor import Convolution2D, MaxPool2D, Softmax\n",
    "from lib.utils import train, test, show_loss_graph, show_acc_graph, predict\n",
    "# let's test with mnist datasets\n",
    "from tensorflow.keras.datasets import mnist, fashion_mnist\n",
    "\n",
    "# set random seed\n",
    "import random\n",
    "random.seed(111)\n",
    "\n",
    "import lib"
   ]
  },
  {
   "cell_type": "markdown",
   "metadata": {},
   "source": [
    "To look at the documentation, you can run this"
   ]
  },
  {
   "cell_type": "code",
   "execution_count": 2,
   "metadata": {},
   "outputs": [],
   "source": [
    "?Convolution2D"
   ]
  },
  {
   "cell_type": "markdown",
   "metadata": {},
   "source": [
    "Or use double question mark '??' to explore more about the library"
   ]
  },
  {
   "cell_type": "code",
   "execution_count": 3,
   "metadata": {},
   "outputs": [],
   "source": [
    "??Convolution2D"
   ]
  },
  {
   "cell_type": "markdown",
   "metadata": {},
   "source": [
    "I use mnist datasets to test the custom library"
   ]
  },
  {
   "cell_type": "code",
   "execution_count": 4,
   "metadata": {},
   "outputs": [],
   "source": [
    "(x_train, y_train), (x_test, y_test) = fashion_mnist.load_data()"
   ]
  },
  {
   "cell_type": "code",
   "execution_count": 5,
   "metadata": {},
   "outputs": [],
   "source": [
    "# creates an array of item which is useful later in the prediction\n",
    "items = [\"T-shirt/Top\", \"Trouser\", \"Pullover\", \"Dress\", \"Coat\", \"Sandals\", \"Shirt\", \"Sneaker\", \"Bag\", \"Ankle Boots\"]"
   ]
  },
  {
   "cell_type": "code",
   "execution_count": 6,
   "metadata": {},
   "outputs": [
    {
     "data": {
      "text/plain": [
       "Text(0.5,1,'Sandals')"
      ]
     },
     "execution_count": 6,
     "metadata": {},
     "output_type": "execute_result"
    },
    {
     "data": {
      "image/png": "[encoded data removed]",
      "text/plain": [
       "<Figure size 432x288 with 1 Axes>"
      ]
     },
     "metadata": {
      "needs_background": "light"
     },
     "output_type": "display_data"
    }
   ],
   "source": [
    "# try plotting 1 of the items\n",
    "idx = 12\n",
    "plt.imshow(x_train[idx])\n",
    "plt.title(items[y_train[idx]])"
   ]
  },
  {
   "cell_type": "markdown",
   "metadata": {},
   "source": [
    "## 2. Model Initialization"
   ]
  },
  {
   "cell_type": "markdown",
   "metadata": {},
   "source": [
    "In this part, we define our convolutional, pooling, and dense layer like we do in Tensorflow, PyTorch, etc.\n",
    "However, in this library, <b>as of now, we could not stack the layers</b> like the other libraries do. So, we can only have 3 layers in total."
   ]
  },
  {
   "cell_type": "markdown",
   "metadata": {},
   "source": [
    "If you want to know how the dimensions are changed between each layer, you can enable <b>debugging=True</b> in Convolution2D, Maxpool2D, and Softmax"
   ]
  },
  {
   "cell_type": "code",
   "execution_count": 7,
   "metadata": {},
   "outputs": [],
   "source": [
    "convolution = Convolution2D(filter_shape=(3,3), num_filters=8, padding='same', activation='relu', stride=1, kernel_init='random')\n",
    "maxpool = MaxPool2D(pool_size=2)\n",
    "temp = convolution.conv2d(x_train[0])\n",
    "temp = maxpool.pool(temp)\n",
    "fully_connected = Softmax(num_features=temp.shape[0]*temp.shape[1]*temp.shape[2], num_nodes=len(items), activation='softmax', regularizer='l2')\n",
    "# fully_connected = Softmax(num_features=15x15x8, num_nodes=10, activation='softmax', debugging=True) # This also works"
   ]
  },
  {
   "cell_type": "markdown",
   "metadata": {},
   "source": [
    "'temp' variable is used for convenience in declaring the final dimension in the dense layer, instead of declaring it manually\n",
    "fully_connected = Softmax(num_features=15x15x8, num_nodes=10, activation='softmax')"
   ]
  },
  {
   "cell_type": "markdown",
   "metadata": {},
   "source": [
    "## 3. Training & Testing Phase"
   ]
  },
  {
   "cell_type": "markdown",
   "metadata": {},
   "source": [
    "Training phase uses the 'SGD' or 'Stochastic Gradient Descent' optimizer (batch size=1) and display the loss and accuracy for each 100 data"
   ]
  },
  {
   "cell_type": "markdown",
   "metadata": {},
   "source": [
    "Start with low number of epochs and learning rate, then increase the number if further training is possible.\n",
    "I start with:\n",
    "<ul>\n",
    "    <li>3 epochs</li>\n",
    "    <li>0.01 learning rate</li>\n",
    "    <li>Take only 1000 data for training. Bigger training data = longer training process </li>\n",
    "</ul>"
   ]
  },
  {
   "cell_type": "code",
   "execution_count": 8,
   "metadata": {},
   "outputs": [
    {
     "name": "stdout",
     "output_type": "stream",
     "text": [
      "============= EPOCH 1 =============\n",
      "Step 100 : Loss= 2.1185498727446794 | Accuracy= 47 %\n",
      "Step 200 : Loss= 1.0525252731355246 | Accuracy= 67 %\n",
      "Step 300 : Loss= 1.127606828422988 | Accuracy= 69 %\n",
      "Step 400 : Loss= 1.071327240229226 | Accuracy= 72 %\n",
      "Step 500 : Loss= 0.9113533092146555 | Accuracy= 73 %\n",
      "Step 600 : Loss= 1.015049310885122 | Accuracy= 71 %\n",
      "Step 700 : Loss= 0.8570890319131695 | Accuracy= 73 %\n",
      "Step 800 : Loss= 0.7221735144830737 | Accuracy= 80 %\n",
      "Step 900 : Loss= 0.8273434175990582 | Accuracy= 75 %\n",
      "Training time: 93 s\n",
      "============= EPOCH 2 =============\n",
      "Step 100 : Loss= 0.666255733130349 | Accuracy= 78 %\n",
      "Step 200 : Loss= 0.7425978532935454 | Accuracy= 77 %\n",
      "Step 300 : Loss= 0.8258467212590612 | Accuracy= 74 %\n",
      "Step 400 : Loss= 0.8451127076090912 | Accuracy= 79 %\n",
      "Step 500 : Loss= 0.7217598987665523 | Accuracy= 76 %\n",
      "Step 600 : Loss= 0.8090822961209599 | Accuracy= 75 %\n",
      "Step 700 : Loss= 0.6804437331830404 | Accuracy= 79 %\n",
      "Step 800 : Loss= 0.623422932139114 | Accuracy= 83 %\n",
      "Step 900 : Loss= 0.6864528374104575 | Accuracy= 79 %\n",
      "Training time: 93 s\n",
      "============= EPOCH 3 =============\n",
      "Step 100 : Loss= 0.5707294235682945 | Accuracy= 80 %\n",
      "Step 200 : Loss= 0.6760998287315594 | Accuracy= 79 %\n",
      "Step 300 : Loss= 0.7471573705494778 | Accuracy= 77 %\n",
      "Step 400 : Loss= 0.7667103914411715 | Accuracy= 83 %\n",
      "Step 500 : Loss= 0.6585159657484606 | Accuracy= 83 %\n",
      "Step 600 : Loss= 0.7250071319877814 | Accuracy= 83 %\n",
      "Step 700 : Loss= 0.612775218078111 | Accuracy= 82 %\n",
      "Step 800 : Loss= 0.5840040440794675 | Accuracy= 87 %\n",
      "Step 900 : Loss= 0.6437485996834736 | Accuracy= 82 %\n",
      "Training time: 93 s\n"
     ]
    }
   ],
   "source": [
    "# train the model\n",
    "l, a = train(convolution, maxpool, fully_connected, epochs=3, lr=0.01, features=x_train[:1000], labels=y_train[:1000])"
   ]
  },
  {
   "cell_type": "code",
   "execution_count": 9,
   "metadata": {},
   "outputs": [
    {
     "name": "stdout",
     "output_type": "stream",
     "text": [
      "Test Loss:  0.7950623497281972\n",
      "Test Accuracy:  0.763 ( 76.3 % )\n"
     ]
    }
   ],
   "source": [
    "test(convolution, maxpool, fully_connected, x_test[:1000], y_test[:1000])"
   ]
  },
  {
   "cell_type": "markdown",
   "metadata": {},
   "source": [
    "Is this performance good or bad? We can compare this to tensorflow, pytorch, or other libraries"
   ]
  },
  {
   "cell_type": "markdown",
   "metadata": {},
   "source": [
    "## 4. Results"
   ]
  },
  {
   "cell_type": "code",
   "execution_count": 10,
   "metadata": {},
   "outputs": [
    {
     "data": {
      "image/png": "[encoded data removed]",
      "text/plain": [
       "<Figure size 432x288 with 1 Axes>"
      ]
     },
     "metadata": {
      "needs_background": "light"
     },
     "output_type": "display_data"
    }
   ],
   "source": [
    "show_loss_graph(l)"
   ]
  },
  {
   "cell_type": "markdown",
   "metadata": {},
   "source": [
    "Loss drops down steadily, which means the model is learning and no sign of overfitting"
   ]
  },
  {
   "cell_type": "code",
   "execution_count": 11,
   "metadata": {},
   "outputs": [
    {
     "data": {
      "image/png": "[encoded data removed]",
      "text/plain": [
       "<Figure size 432x288 with 1 Axes>"
      ]
     },
     "metadata": {
      "needs_background": "light"
     },
     "output_type": "display_data"
    }
   ],
   "source": [
    "show_acc_graph(a)"
   ]
  },
  {
   "cell_type": "markdown",
   "metadata": {},
   "source": [
    "Accuracy is also increasing and it is still increasing even after 2nd epoch. Further training is still possible with more epochs"
   ]
  },
  {
   "cell_type": "code",
   "execution_count": 12,
   "metadata": {},
   "outputs": [],
   "source": [
    "test_idx = 10\n",
    "pred = predict(convolution, maxpool, fully_connected, x_test[test_idx], y_test[test_idx])"
   ]
  },
  {
   "cell_type": "code",
   "execution_count": 13,
   "metadata": {},
   "outputs": [
    {
     "data": {
      "text/plain": [
       "Text(0.5,1,'Coat')"
      ]
     },
     "execution_count": 13,
     "metadata": {},
     "output_type": "execute_result"
    },
    {
     "data": {
      "image/png": "[encoded data removed]",
      "text/plain": [
       "<Figure size 432x288 with 1 Axes>"
      ]
     },
     "metadata": {
      "needs_background": "light"
     },
     "output_type": "display_data"
    }
   ],
   "source": [
    "plt.imshow(x_test[test_idx])\n",
    "plt.title(items[pred])"
   ]
  },
  {
   "cell_type": "markdown",
   "metadata": {},
   "source": [
    "## 5. Comparison with keras.tensorflow"
   ]
  },
  {
   "cell_type": "markdown",
   "metadata": {},
   "source": [
    "Now we might feel a bit sceptical about the custom library achieving ~70% accuracy on the test set. Here, I already provided a model from keras.tensorflow <b> with the same hyperparameters </b> as we did above."
   ]
  },
  {
   "cell_type": "code",
   "execution_count": 14,
   "metadata": {},
   "outputs": [
    {
     "name": "stderr",
     "output_type": "stream",
     "text": [
      "Using TensorFlow backend.\n"
     ]
    }
   ],
   "source": [
    "from keras.models import Sequential\n",
    "from keras.layers import Conv2D, MaxPooling2D, Flatten, Dense\n",
    "from keras.utils import to_categorical\n",
    "from keras.optimizers import SGD\n",
    "from keras import regularizers"
   ]
  },
  {
   "cell_type": "code",
   "execution_count": 15,
   "metadata": {},
   "outputs": [],
   "source": [
    "x_train = np.reshape(x_train, (len(x_train), 28, 28, 1))\n",
    "x_test = np.reshape(x_test, (len(x_test), 28, 28, 1))\n",
    "y_train = to_categorical(y_train, 10)\n",
    "y_test = to_categorical(y_test, 10)"
   ]
  },
  {
   "cell_type": "code",
   "execution_count": 16,
   "metadata": {},
   "outputs": [],
   "source": [
    "x_train = x_train/255\n",
    "x_test = x_test/255"
   ]
  },
  {
   "cell_type": "markdown",
   "metadata": {},
   "source": [
    "In case we forget, here's the configuration for each layer\n",
    "<ul>\n",
    "    <li> Convolutional2D: 8 filters (kernels), 3x3 filter size, same padding, relu activation function </li>\n",
    "    <li> MaxPool2D: 2x2 pool size </li>\n",
    "    <li> Dense: 10 classes (number of nodes), softtmax activation function, l2 regularization with 0.01 regularization lambda </li>\n",
    "</ul>\n",
    "Don't forget to train it with SGD optimizer since our custom model can be only trained with SGD optimizer"
   ]
  },
  {
   "cell_type": "code",
   "execution_count": 17,
   "metadata": {},
   "outputs": [],
   "source": [
    "model = Sequential()\n",
    "model.add(Conv2D(filters=8, kernel_size=(3,3), padding='same', activation='relu', input_shape=(x_train[0].shape)))\n",
    "model.add(MaxPooling2D(pool_size=2))\n",
    "model.add(Flatten())\n",
    "model.add(Dense(10, activation='softmax', kernel_regularizer=regularizers.l2(0.01)))\n",
    "\n",
    "opt = SGD(lr=0.01)\n",
    "model.compile(optimizer='sgd', loss='categorical_crossentropy', metrics=['accuracy'])"
   ]
  },
  {
   "cell_type": "code",
   "execution_count": 18,
   "metadata": {},
   "outputs": [
    {
     "name": "stdout",
     "output_type": "stream",
     "text": [
      "Epoch 1/5\n",
      "1000/1000 [==============================] - 7s 7ms/step - loss: 1.4536 - acc: 0.5750\n",
      "Epoch 2/5\n",
      "1000/1000 [==============================] - 6s 6ms/step - loss: 0.9989 - acc: 0.7410\n",
      "Epoch 3/5\n",
      "1000/1000 [==============================] - 6s 6ms/step - loss: 0.8659 - acc: 0.7800\n",
      "Epoch 4/5\n",
      "1000/1000 [==============================] - 6s 6ms/step - loss: 0.7568 - acc: 0.8320\n",
      "Epoch 5/5\n",
      "1000/1000 [==============================] - 6s 6ms/step - loss: 0.7121 - acc: 0.8450\n"
     ]
    },
    {
     "data": {
      "text/plain": [
       "<keras.callbacks.History at 0x2aa44f73a58>"
      ]
     },
     "execution_count": 18,
     "metadata": {},
     "output_type": "execute_result"
    }
   ],
   "source": [
    "model.fit(x=x_train[:1000], y=y_train[:1000], epochs=5, batch_size=1, verbose=1) # since it's SGD, set batch_size=1"
   ]
  },
  {
   "cell_type": "code",
   "execution_count": 19,
   "metadata": {},
   "outputs": [
    {
     "name": "stdout",
     "output_type": "stream",
     "text": [
      "1000/1000 [==============================] - 1s 704us/step\n"
     ]
    },
    {
     "data": {
      "text/plain": [
       "[0.805190800666809, 0.786]"
      ]
     },
     "execution_count": 19,
     "metadata": {},
     "output_type": "execute_result"
    }
   ],
   "source": [
    "model.evaluate(x_test[:1000], y_test[:1000])"
   ]
  },
  {
   "cell_type": "markdown",
   "metadata": {},
   "source": [
    "## 6. Medical Imaging"
   ]
  },
  {
   "cell_type": "markdown",
   "metadata": {},
   "source": [
    "Dataset available at: https://www.kaggle.com/paultimothymooney/chest-xray-pneumonia"
   ]
  },
  {
   "cell_type": "markdown",
   "metadata": {},
   "source": [
    "I used the pneumonia dataset above to test the model to classify a chest whether it is infected by pneumonia or not from a chest x-ray"
   ]
  },
  {
   "cell_type": "code",
   "execution_count": 20,
   "metadata": {},
   "outputs": [],
   "source": [
    "from glob import glob\n",
    "import cv2\n",
    "import random"
   ]
  },
  {
   "cell_type": "code",
   "execution_count": 21,
   "metadata": {},
   "outputs": [],
   "source": [
    "NORMAL_TRAIN_PATH = '../chest_xray/train/NORMAL/*.jpeg'\n",
    "PNEU_TRAIN_PATH = '../chest_xray/train/PNEUMONIA/*.jpeg'\n",
    "\n",
    "normal_img = glob(NORMAL_TRAIN_PATH)\n",
    "pneu_img = glob(PNEU_TRAIN_PATH)"
   ]
  },
  {
   "cell_type": "markdown",
   "metadata": {},
   "source": [
    "keras has a convenient method for image processing and augmentation with ImageDataGenerator() and .flow_from_directory(). However, this custom library is incapable of doing so. Thus, I need to borrow this method from keras"
   ]
  },
  {
   "cell_type": "code",
   "execution_count": 22,
   "metadata": {},
   "outputs": [],
   "source": [
    "from keras.preprocessing.image import ImageDataGenerator\n",
    "from keras.models import Sequential\n",
    "from keras.layers import Conv2D, MaxPooling2D, Flatten, Dense\n",
    "\n",
    "# generate data augmentation for train and test set\n",
    "train_data_generator = ImageDataGenerator(rescale=1./255,\n",
    "                                   rotation_range=20,\n",
    "                                   width_shift_range=0.2,\n",
    "                                   height_shift_range=0.2,\n",
    "                                   shear_range=0.2,\n",
    "                                   zoom_range=0.2,\n",
    "                                   horizontal_flip=True)\n",
    "\n",
    "test_data_generator = ImageDataGenerator(rescale=1./255)"
   ]
  },
  {
   "cell_type": "markdown",
   "metadata": {},
   "source": [
    "We can downsize the target_size to smaller size if 224x224 is still too large and takes too long time to train. 120x120 would be a good alternative."
   ]
  },
  {
   "cell_type": "code",
   "execution_count": 23,
   "metadata": {},
   "outputs": [
    {
     "name": "stdout",
     "output_type": "stream",
     "text": [
      "Found 5216 images belonging to 2 classes.\n",
      "Found 624 images belonging to 2 classes.\n"
     ]
    }
   ],
   "source": [
    "# change batch accordingly\n",
    "train_batch = 1000 # total train images = 5216\n",
    "test_batch = 624 # total test images = 624\n",
    "\n",
    "PATH = '../chest_xray/' # change the path accordingly to your own directory\n",
    "train_x, train_y = next(train_data_generator.flow_from_directory(PATH+'train', target_size=(224,224), batch_size=train_batch, class_mode='binary', color_mode='grayscale', seed=101))\n",
    "test_x, test_y = next(test_data_generator.flow_from_directory(PATH+'test', target_size=(224,224), batch_size=test_batch, class_mode='binary', color_mode='grayscale', seed=101))"
   ]
  },
  {
   "cell_type": "markdown",
   "metadata": {},
   "source": [
    "Total training set should be <b>5216 images</b><br>\n",
    "Total test set should be <b>624 images</b>"
   ]
  },
  {
   "cell_type": "code",
   "execution_count": 24,
   "metadata": {},
   "outputs": [
    {
     "name": "stdout",
     "output_type": "stream",
     "text": [
      "train_x before reshape: (1000, 224, 224, 1)\n",
      "train_y type: <class 'numpy.float32'>\n"
     ]
    }
   ],
   "source": [
    "print(\"train_x before reshape:\", train_x.shape)\n",
    "print(\"train_y type:\", type(train_y[0]))"
   ]
  },
  {
   "cell_type": "markdown",
   "metadata": {},
   "source": [
    "After applying data generator, train_x has dimension of (batch_size, width, height, channel). However, our Convolution2D class accepts (batch_size, width, height) as the input. We can solve this by using np.reshape to reshape the dimension"
   ]
  },
  {
   "cell_type": "markdown",
   "metadata": {},
   "source": [
    "As for the labels, cast it as uint8 instead of float32"
   ]
  },
  {
   "cell_type": "code",
   "execution_count": 25,
   "metadata": {},
   "outputs": [],
   "source": [
    "train_x = np.reshape(train_x, (train_batch, 224, 224))\n",
    "train_y = train_y.astype(np.uint8)\n",
    "test_x = np.reshape(test_x, (test_batch, 224, 224))\n",
    "test_y = test_y.astype(np.uint8)"
   ]
  },
  {
   "cell_type": "code",
   "execution_count": 26,
   "metadata": {},
   "outputs": [
    {
     "name": "stdout",
     "output_type": "stream",
     "text": [
      "train_x after reshape: (1000, 224, 224)\n",
      "train_y type: <class 'numpy.uint8'>\n"
     ]
    }
   ],
   "source": [
    "print(\"train_x after reshape:\", train_x.shape)\n",
    "print(\"train_y type:\", type(train_y[0]))"
   ]
  },
  {
   "cell_type": "markdown",
   "metadata": {},
   "source": [
    "Now we are good to go! Let's rebuild the model for the pneumonia dataset"
   ]
  },
  {
   "cell_type": "code",
   "execution_count": 27,
   "metadata": {},
   "outputs": [],
   "source": [
    "# model initialization\n",
    "convolution = Convolution2D(filter_shape=(3,3), num_filters=8, padding='same', activation='relu', stride=1, kernel_init='random')\n",
    "maxpool = MaxPool2D(pool_size=2)\n",
    "temp = convolution.conv2d(train_x[0])\n",
    "temp = maxpool.pool(temp)\n",
    "fully_connected = Softmax(num_features=temp.shape[0]*temp.shape[1]*temp.shape[2], num_nodes=2, activation='softmax', regularizer='l2')"
   ]
  },
  {
   "cell_type": "markdown",
   "metadata": {},
   "source": [
    "Notice that num_nodes in Softmax class is set to 2 because we have to classify 2 classes (normal and pneumonia)"
   ]
  },
  {
   "cell_type": "markdown",
   "metadata": {},
   "source": [
    "#### WARNING: Both training and testing might take very long time to run"
   ]
  },
  {
   "cell_type": "code",
   "execution_count": 28,
   "metadata": {},
   "outputs": [
    {
     "name": "stdout",
     "output_type": "stream",
     "text": [
      "============= EPOCH 1 =============\n",
      "Step 100 : Loss= 0.6817597974965017 | Accuracy= 74 %\n",
      "Step 200 : Loss= 0.6637915336766322 | Accuracy= 73 %\n",
      "Step 300 : Loss= 0.6350417670668573 | Accuracy= 79 %\n",
      "Step 400 : Loss= 0.6487887738944015 | Accuracy= 69 %\n",
      "Step 500 : Loss= 0.635421740740367 | Accuracy= 71 %\n",
      "Step 600 : Loss= 0.6314415939247587 | Accuracy= 71 %\n",
      "Step 700 : Loss= 0.5925464806879001 | Accuracy= 78 %\n",
      "Step 800 : Loss= 0.5966443066857043 | Accuracy= 75 %\n",
      "Step 900 : Loss= 0.5885615977281606 | Accuracy= 76 %\n",
      "Training time: 6413 s\n"
     ]
    }
   ],
   "source": [
    "# train the model\n",
    "l, a = train(convolution, maxpool, fully_connected, epochs=1, lr=0.001, features=train_x, labels=train_y)"
   ]
  },
  {
   "cell_type": "markdown",
   "metadata": {},
   "source": [
    "It takes too long even with 1 epoch"
   ]
  },
  {
   "cell_type": "code",
   "execution_count": 29,
   "metadata": {},
   "outputs": [
    {
     "name": "stdout",
     "output_type": "stream",
     "text": [
      "Test Loss:  0.667729176056032\n",
      "Test Accuracy:  0.625 ( 62.5 % )\n"
     ]
    }
   ],
   "source": [
    "test(convolution, maxpool, fully_connected, test_x, test_y)"
   ]
  },
  {
   "cell_type": "markdown",
   "metadata": {},
   "source": [
    "We got 0.67 loss and 62% accuracy on the test set."
   ]
  },
  {
   "cell_type": "code",
   "execution_count": 30,
   "metadata": {},
   "outputs": [
    {
     "name": "stdout",
     "output_type": "stream",
     "text": [
      "Model prediction: 1\n",
      "Actual label: 0\n"
     ]
    }
   ],
   "source": [
    "img_idx = 15\n",
    "print(\"Model prediction:\", predict(convolution, maxpool, fully_connected, img=test_x[img_idx], label=test_y[img_idx]))\n",
    "print(\"Actual label:\", test_y[img_idx])"
   ]
  },
  {
   "cell_type": "code",
   "execution_count": 31,
   "metadata": {},
   "outputs": [
    {
     "name": "stdout",
     "output_type": "stream",
     "text": [
      "Model prediction: 1\n",
      "Actual label: 1\n"
     ]
    }
   ],
   "source": [
    "img_idx = 0\n",
    "print(\"Model prediction:\", predict(convolution, maxpool, fully_connected, img=test_x[img_idx], label=test_y[img_idx]))\n",
    "print(\"Actual label:\", test_y[img_idx])"
   ]
  },
  {
   "cell_type": "markdown",
   "metadata": {},
   "source": [
    "Even with just 3 simple layers of convolutional, maxpooling, and dense, it is able to classify chest x-ray with pneumonia infection and normal chest x-ray although the accuracy is still far from the \"state of the art\""
   ]
  },
  {
   "cell_type": "code",
   "execution_count": null,
   "metadata": {},
   "outputs": [],
   "source": []
  }
 ],
 "metadata": {
  "kernelspec": {
   "display_name": "Python 3",
   "language": "python",
   "name": "python3"
  },
  "language_info": {
   "codemirror_mode": {
    "name": "ipython",
    "version": 3
   },
   "file_extension": ".py",
   "mimetype": "text/x-python",
   "name": "python",
   "nbconvert_exporter": "python",
   "pygments_lexer": "ipython3",
   "version": "3.6.6"
  }
 },
 "nbformat": 4,
 "nbformat_minor": 2
}
